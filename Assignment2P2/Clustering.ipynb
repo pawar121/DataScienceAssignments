{
 "cells": [
  {
   "cell_type": "code",
   "execution_count": 1,
   "metadata": {
    "collapsed": false
   },
   "outputs": [],
   "source": [
    "import csv\n",
    "import os\n",
    "import numpy as np\n",
    "import pandas as pd\n",
    "import warnings\n",
    "warnings.filterwarnings('ignore')"
   ]
  },
  {
   "cell_type": "code",
   "execution_count": 2,
   "metadata": {
    "collapsed": true
   },
   "outputs": [],
   "source": [
    "#defining filedirectory\n",
    "fileDir = os.path.dirname(os.path.realpath('__file__'))"
   ]
  },
  {
   "cell_type": "code",
   "execution_count": 3,
   "metadata": {
    "collapsed": true
   },
   "outputs": [],
   "source": [
    "#defining data frames\n",
    "dfLoanData = pd.DataFrame()"
   ]
  },
  {
   "cell_type": "code",
   "execution_count": 4,
   "metadata": {
    "collapsed": false
   },
   "outputs": [
    {
     "name": "stdout",
     "output_type": "stream",
     "text": [
      "Reading from a file: LoanData.csv....\n"
     ]
    }
   ],
   "source": [
    "#reading clean-data from csv\n",
    "for directory, subdirectory, filenames in  os.walk(fileDir + '/CleanedData'):\n",
    "    for filename in filenames:\n",
    "        if filename == 'LoanData.csv':\n",
    "            print(\"Reading from a file: \" + filename + '....')\n",
    "            dfLoanData = pd.read_csv(os.path.join(directory, filename), encoding = 'ISO-8859-1')"
   ]
  },
  {
   "cell_type": "code",
   "execution_count": 5,
   "metadata": {
    "collapsed": true
   },
   "outputs": [],
   "source": [
    "#creating copies of data frames\n",
    "df = dfLoanData.copy()"
   ]
  },
  {
   "cell_type": "code",
   "execution_count": 6,
   "metadata": {
    "collapsed": true
   },
   "outputs": [],
   "source": [
    "columns = ['term', 'int_rate', 'grade', 'emp_length', 'purpose', 'addr_state', 'dti', 'delinq_2yrs', \n",
    "           'inq_last_6mths', 'pub_rec', 'revol_bal', 'total_acc', 'acc_now_delinq', \n",
    "           'issue_year', 'cr_line_history', 'Credit_Score_Code', \n",
    "           'Last_Credit_Score_Code','loan_status_binary', 'home_ownership_binary', 'verification_status_binary', \n",
    "           'application_type_binary', 'loan_amnt_category_code', 'annual_inc_category_code']"
   ]
  },
  {
   "cell_type": "code",
   "execution_count": 7,
   "metadata": {
    "collapsed": true
   },
   "outputs": [],
   "source": [
    "df = df[columns]"
   ]
  },
  {
   "cell_type": "code",
   "execution_count": 8,
   "metadata": {
    "collapsed": true
   },
   "outputs": [],
   "source": [
    "df['grade'] = (df['grade']).astype('category')\n",
    "df['purpose'] = (df['purpose']).astype('category')\n",
    "df['addr_state'] = (df['addr_state']).astype('category')"
   ]
  },
  {
   "cell_type": "code",
   "execution_count": 9,
   "metadata": {
    "collapsed": true
   },
   "outputs": [],
   "source": [
    "#converting all the category columns to int by taking category-code\n",
    "cat_columns = df.select_dtypes(['category']).columns\n",
    "df[cat_columns] = df[cat_columns].apply(lambda x: x.cat.codes)"
   ]
  },
  {
   "cell_type": "markdown",
   "metadata": {},
   "source": [
    "# STANDARDIZE THE DATA"
   ]
  },
  {
   "cell_type": "code",
   "execution_count": 10,
   "metadata": {
    "collapsed": false
   },
   "outputs": [],
   "source": [
    "# Get only the numeric columns from games.\n",
    "clus_train = df._get_numeric_data()"
   ]
  },
  {
   "cell_type": "markdown",
   "metadata": {},
   "source": [
    "# K-MEANS ANALYSIS - INITIAL CLUSTER SET"
   ]
  },
  {
   "cell_type": "code",
   "execution_count": 11,
   "metadata": {
    "collapsed": true
   },
   "outputs": [],
   "source": [
    "# k-means cluster analysis for 1-10 clusters due to the 10 possible class outcomes..\n",
    "from scipy.spatial.distance import cdist\n",
    "clusters=range(1,11)\n",
    "meandist=[]"
   ]
  },
  {
   "cell_type": "code",
   "execution_count": 12,
   "metadata": {
    "collapsed": false
   },
   "outputs": [],
   "source": [
    "# loop through each cluster and fit the model to the train set\n",
    "# generate the predicted cluster assingment and append the mean distance my taking the sum divided by the shape\n",
    "from sklearn.cluster import KMeans\n",
    "\n",
    "for k in clusters:\n",
    "    model=KMeans(n_clusters=k)\n",
    "    model.fit(clus_train)\n",
    "    clusassign=model.predict(clus_train)\n",
    "    meandist.append(sum(np.min(cdist(clus_train, model.cluster_centers_, 'euclidean'), axis=1))\n",
    "    / clus_train.shape[0])"
   ]
  },
  {
   "cell_type": "markdown",
   "metadata": {},
   "source": [
    "# Elbow Method to identify number of clusters"
   ]
  },
  {
   "cell_type": "code",
   "execution_count": 13,
   "metadata": {
    "collapsed": false
   },
   "outputs": [
    {
     "data": {
      "image/png": "[encoded data removed]",
      "text/plain": [
       "<matplotlib.figure.Figure at 0x1e5de1a5128>"
      ]
     },
     "metadata": {},
     "output_type": "display_data"
    }
   ],
   "source": [
    "# Plot average distance from observations from the cluster centroid\n",
    "# to use the Elbow Method to identify number of clusters to choose\n",
    "import matplotlib.pylab as plt\n",
    "\n",
    "kIdx = 5\n",
    "fig = plt.figure()\n",
    "ax = fig.add_subplot(111)\n",
    "ax.plot(clusters, meandist, 'b*-')\n",
    "ax.plot(clusters[kIdx], meandist[kIdx], marker='o', markersize=12, \n",
    "markeredgewidth=2, markeredgecolor='r', markerfacecolor='None')\n",
    "plt.grid(True)\n",
    "plt.xlabel('Number of clusters')\n",
    "plt.ylabel('Average within-cluster sum of squares')\n",
    "plt.title('Elbow for KMeans clustering')\n",
    "plt.show()"
   ]
  },
  {
   "cell_type": "markdown",
   "metadata": {},
   "source": [
    "# Interpret 5 cluster solution"
   ]
  },
  {
   "cell_type": "code",
   "execution_count": 11,
   "metadata": {
    "collapsed": false
   },
   "outputs": [],
   "source": [
    "from sklearn.cluster import KMeans\n",
    "\n",
    "model5=KMeans(n_clusters=5)\n",
    "model5.fit(clus_train) # has cluster assingments based on using 3 clusters\n",
    "clusassign=model5.predict(clus_train)"
   ]
  },
  {
   "cell_type": "markdown",
   "metadata": {},
   "source": [
    "# Canonical Discriminant Analysis for variable reduction"
   ]
  },
  {
   "cell_type": "code",
   "execution_count": 15,
   "metadata": {
    "collapsed": true
   },
   "outputs": [],
   "source": [
    "# Canonical variables are ordered by proportion of variance accounted for\n",
    "# most of the variance will be accounted for in the first few canonical variables\n",
    "from sklearn.decomposition import PCA # CA from PCA function\n",
    "pca_2 = PCA(2) # return 2 first canonical variables"
   ]
  },
  {
   "cell_type": "code",
   "execution_count": 16,
   "metadata": {
    "collapsed": false
   },
   "outputs": [
    {
     "data": {
      "image/png": "[encoded data removed]",
      "text/plain": [
       "<matplotlib.figure.Figure at 0x1e5a4c0e198>"
      ]
     },
     "metadata": {},
     "output_type": "display_data"
    }
   ],
   "source": [
    "plot_columns = pca_2.fit_transform(clus_train) # fit CA to the train dataset\n",
    "plt.scatter(x=plot_columns[:,0], y=plot_columns[:,1], c=model5.labels_,) # plot 1st canonical variable on x axis, 2nd on y-axis\n",
    "plt.xlabel('Canonical variable 1')\n",
    "plt.ylabel('Canonical variable 2')\n",
    "plt.title('Scatterplot of Canonical Variables for 2 Clusters')\n",
    "plt.show() # close or overlapping clusters idicate correlated variables with low in-class variance but not good separation. 2 cluster might be better."
   ]
  },
  {
   "cell_type": "code",
   "execution_count": 12,
   "metadata": {
    "collapsed": true
   },
   "outputs": [],
   "source": [
    "# create a unique identifier variable from the index for the\n",
    "# cluster training data to merge with the cluster assignment variable\n",
    "clus_train.reset_index(level=0, inplace=True)"
   ]
  },
  {
   "cell_type": "code",
   "execution_count": 13,
   "metadata": {
    "collapsed": true
   },
   "outputs": [],
   "source": [
    "# create a list that has the new index variable\n",
    "cluslist=list(clus_train['index'])"
   ]
  },
  {
   "cell_type": "code",
   "execution_count": 14,
   "metadata": {
    "collapsed": true
   },
   "outputs": [],
   "source": [
    "# create a list of cluster assignments\n",
    "labels=list(model5.labels_)"
   ]
  },
  {
   "cell_type": "code",
   "execution_count": 15,
   "metadata": {
    "collapsed": false
   },
   "outputs": [],
   "source": [
    "# combine index variable list with cluster assignment list into a dictionary\n",
    "newlist=dict(zip(cluslist, labels))"
   ]
  },
  {
   "cell_type": "code",
   "execution_count": 16,
   "metadata": {
    "collapsed": false
   },
   "outputs": [],
   "source": [
    "# convert newlist dictionary to a dataframe\n",
    "newclus=pd.DataFrame.from_dict(newlist, orient='index')"
   ]
  },
  {
   "cell_type": "code",
   "execution_count": 17,
   "metadata": {
    "collapsed": true
   },
   "outputs": [],
   "source": [
    "# rename the cluster assignment column\n",
    "newclus.columns = ['cluster']"
   ]
  },
  {
   "cell_type": "code",
   "execution_count": 18,
   "metadata": {
    "collapsed": true
   },
   "outputs": [],
   "source": [
    "# cluster assignment dataframe to merge with cluster training data\n",
    "newclus.reset_index(level=0, inplace=True)"
   ]
  },
  {
   "cell_type": "code",
   "execution_count": 19,
   "metadata": {
    "collapsed": true
   },
   "outputs": [],
   "source": [
    "# merge the cluster assignment dataframe with the cluster training variable dataframe\n",
    "# by the index variable\n",
    "merged_train=pd.merge(clus_train, newclus, on='index')"
   ]
  },
  {
   "cell_type": "code",
   "execution_count": 20,
   "metadata": {
    "collapsed": true
   },
   "outputs": [],
   "source": [
    "clusteredLoansPath = fileDir+'/CleanedData/ClusteredLoans.csv'"
   ]
  },
  {
   "cell_type": "code",
   "execution_count": 21,
   "metadata": {
    "collapsed": true
   },
   "outputs": [],
   "source": [
    "#function to write the data in chunks\n",
    "def chunker(seq, size):\n",
    "    return (seq[pos:pos + size] for pos in range(0, len(seq), size))"
   ]
  },
  {
   "cell_type": "code",
   "execution_count": 22,
   "metadata": {
    "collapsed": false
   },
   "outputs": [],
   "source": [
    "withHeaders = True\n",
    "for i in chunker(merged_train,50000):\n",
    "    if(withHeaders):\n",
    "        i.to_csv(clusteredLoansPath, index=False, mode='a')\n",
    "        withHeaders = False\n",
    "    else:\n",
    "        i.to_csv(clusteredLoansPath, index=False, mode='a', header = False)"
   ]
  },
  {
   "cell_type": "code",
   "execution_count": 27,
   "metadata": {
    "collapsed": false
   },
   "outputs": [
    {
     "data": {
      "text/plain": [
       "0    952282\n",
       "2    323967\n",
       "1     36188\n",
       "3      6076\n",
       "4       585\n",
       "Name: cluster, dtype: int64"
      ]
     },
     "execution_count": 27,
     "metadata": {},
     "output_type": "execute_result"
    }
   ],
   "source": [
    "# cluster frequencies\n",
    "merged_train.cluster.value_counts()"
   ]
  },
  {
   "cell_type": "code",
   "execution_count": 32,
   "metadata": {
    "collapsed": true
   },
   "outputs": [],
   "source": [
    "aggregations = {\n",
    "        'emp_length': {\n",
    "            'avg_emp_len': 'mean'\n",
    "        },\n",
    "        'delinq_2yrs': {\n",
    "            'avg_delinq_2yrs': 'mean'\n",
    "        },\n",
    "        'dti': {\n",
    "            'avg_dti': 'mean'\n",
    "        },\n",
    "        'pub_rec': {\n",
    "            'avg_pub_rec': 'mean'\n",
    "        },\n",
    "        'cr_line_history': {\n",
    "            'avg_cr_line_history': 'mean'\n",
    "        },\n",
    "        'inq_last_6mths': {\n",
    "            'avg_inq_last_6mths': 'mean'\n",
    "        },\n",
    "        'loan_amnt_category_code': {\n",
    "            'most_likely_loan_amnt_cat': lambda x:x.value_counts().index[0]\n",
    "        }\n",
    "    }"
   ]
  },
  {
   "cell_type": "code",
   "execution_count": 33,
   "metadata": {
    "collapsed": false
   },
   "outputs": [
    {
     "name": "stdout",
     "output_type": "stream",
     "text": [
      "Clustering variable means by cluster\n"
     ]
    },
    {
     "data": {
      "text/html": [
       "<div>\n",
       "<table border=\"1\" class=\"dataframe\">\n",
       "  <thead>\n",
       "    <tr>\n",
       "      <th></th>\n",
       "      <th>emp_length</th>\n",
       "      <th>delinq_2yrs</th>\n",
       "      <th>dti</th>\n",
       "      <th>pub_rec</th>\n",
       "      <th>cr_line_history</th>\n",
       "      <th>inq_last_6mths</th>\n",
       "      <th>loan_amnt_category_code</th>\n",
       "    </tr>\n",
       "    <tr>\n",
       "      <th></th>\n",
       "      <th>avg_emp_len</th>\n",
       "      <th>avg_delinq_2yrs</th>\n",
       "      <th>avg_dti</th>\n",
       "      <th>avg_pub_rec</th>\n",
       "      <th>avg_cr_line_history</th>\n",
       "      <th>avg_inq_last_6mths</th>\n",
       "      <th>most_likely_loan_amnt_cat</th>\n",
       "    </tr>\n",
       "    <tr>\n",
       "      <th>cluster</th>\n",
       "      <th></th>\n",
       "      <th></th>\n",
       "      <th></th>\n",
       "      <th></th>\n",
       "      <th></th>\n",
       "      <th></th>\n",
       "      <th></th>\n",
       "    </tr>\n",
       "  </thead>\n",
       "  <tbody>\n",
       "    <tr>\n",
       "      <th>0</th>\n",
       "      <td>5.500990</td>\n",
       "      <td>0.354263</td>\n",
       "      <td>17.952899</td>\n",
       "      <td>0.266999</td>\n",
       "      <td>15.335760</td>\n",
       "      <td>0.661412</td>\n",
       "      <td>0</td>\n",
       "    </tr>\n",
       "    <tr>\n",
       "      <th>1</th>\n",
       "      <td>6.802863</td>\n",
       "      <td>0.273350</td>\n",
       "      <td>22.362199</td>\n",
       "      <td>0.062396</td>\n",
       "      <td>22.268735</td>\n",
       "      <td>0.654554</td>\n",
       "      <td>9</td>\n",
       "    </tr>\n",
       "    <tr>\n",
       "      <th>2</th>\n",
       "      <td>6.434834</td>\n",
       "      <td>0.263261</td>\n",
       "      <td>21.189099</td>\n",
       "      <td>0.082657</td>\n",
       "      <td>18.962058</td>\n",
       "      <td>0.588245</td>\n",
       "      <td>8</td>\n",
       "    </tr>\n",
       "    <tr>\n",
       "      <th>3</th>\n",
       "      <td>6.872778</td>\n",
       "      <td>0.373766</td>\n",
       "      <td>20.666136</td>\n",
       "      <td>0.093318</td>\n",
       "      <td>24.049210</td>\n",
       "      <td>0.715932</td>\n",
       "      <td>9</td>\n",
       "    </tr>\n",
       "    <tr>\n",
       "      <th>4</th>\n",
       "      <td>6.895726</td>\n",
       "      <td>0.348718</td>\n",
       "      <td>20.248906</td>\n",
       "      <td>0.152137</td>\n",
       "      <td>25.261538</td>\n",
       "      <td>0.830769</td>\n",
       "      <td>9</td>\n",
       "    </tr>\n",
       "  </tbody>\n",
       "</table>\n",
       "</div>"
      ],
      "text/plain": [
       "         emp_length     delinq_2yrs        dti     pub_rec  \\\n",
       "        avg_emp_len avg_delinq_2yrs    avg_dti avg_pub_rec   \n",
       "cluster                                                      \n",
       "0          5.500990        0.354263  17.952899    0.266999   \n",
       "1          6.802863        0.273350  22.362199    0.062396   \n",
       "2          6.434834        0.263261  21.189099    0.082657   \n",
       "3          6.872778        0.373766  20.666136    0.093318   \n",
       "4          6.895726        0.348718  20.248906    0.152137   \n",
       "\n",
       "            cr_line_history     inq_last_6mths   loan_amnt_category_code  \n",
       "        avg_cr_line_history avg_inq_last_6mths most_likely_loan_amnt_cat  \n",
       "cluster                                                                   \n",
       "0                 15.335760           0.661412                         0  \n",
       "1                 22.268735           0.654554                         9  \n",
       "2                 18.962058           0.588245                         8  \n",
       "3                 24.049210           0.715932                         9  \n",
       "4                 25.261538           0.830769                         9  "
      ]
     },
     "execution_count": 33,
     "metadata": {},
     "output_type": "execute_result"
    }
   ],
   "source": [
    "# FINALLY calculate clustering variable means by cluster\n",
    "del merged_train['index']\n",
    "clustergrp = merged_train.groupby('cluster').agg(aggregations)\n",
    "print (\"Clustering variable means by cluster\")\n",
    "clustergrp"
   ]
  }
 ],
 "metadata": {
  "kernelspec": {
   "display_name": "Python 3",
   "language": "python",
   "name": "python3"
  },
  "language_info": {
   "codemirror_mode": {
    "name": "ipython",
    "version": 3
   },
   "file_extension": ".py",
   "mimetype": "text/x-python",
   "name": "python",
   "nbconvert_exporter": "python",
   "pygments_lexer": "ipython3",
   "version": "3.6.0"
  }
 },
 "nbformat": 4,
 "nbformat_minor": 2
}
