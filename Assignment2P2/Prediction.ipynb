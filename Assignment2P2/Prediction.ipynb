{
 "cells": [
  {
   "cell_type": "code",
   "execution_count": 1,
   "metadata": {
    "collapsed": false
   },
   "outputs": [],
   "source": [
    "import csv\n",
    "import os\n",
    "import numpy as np\n",
    "import pandas as pd\n",
    "import warnings\n",
    "warnings.filterwarnings('ignore')"
   ]
  },
  {
   "cell_type": "code",
   "execution_count": 2,
   "metadata": {
    "collapsed": true
   },
   "outputs": [],
   "source": [
    "#defining filedirectory\n",
    "fileDir = os.path.dirname(os.path.realpath('__file__'))"
   ]
  },
  {
   "cell_type": "code",
   "execution_count": 3,
   "metadata": {
    "collapsed": true
   },
   "outputs": [],
   "source": [
    "#defining data frames\n",
    "dfLoanData = pd.DataFrame()"
   ]
  },
  {
   "cell_type": "code",
   "execution_count": 4,
   "metadata": {
    "collapsed": false
   },
   "outputs": [
    {
     "name": "stdout",
     "output_type": "stream",
     "text": [
      "Reading from a file: LoanData.csv....\n"
     ]
    }
   ],
   "source": [
    "#reading clean-data from csv\n",
    "for directory, subdirectory, filenames in  os.walk(fileDir + '/CleanedData'):\n",
    "    for filename in filenames:\n",
    "        if filename == 'LoanData.csv':\n",
    "            print(\"Reading from a file: \" + filename + '....')\n",
    "            dfLoanData = pd.read_csv(os.path.join(directory, filename), encoding = 'ISO-8859-1')"
   ]
  },
  {
   "cell_type": "code",
   "execution_count": 5,
   "metadata": {
    "collapsed": true
   },
   "outputs": [],
   "source": [
    "#creating copies of data frames\n",
    "df = dfLoanData.copy()"
   ]
  },
  {
   "cell_type": "code",
   "execution_count": 6,
   "metadata": {
    "collapsed": true
   },
   "outputs": [],
   "source": [
    "columns = ['term', 'int_rate', 'grade', 'emp_length', 'purpose', 'addr_state', 'dti', 'inq_last_6mths', \n",
    "           'pub_rec', 'issue_year', 'cr_line_history', 'Credit_Score_Code','loan_status_binary', \n",
    "           'home_ownership_binary', 'verification_status_binary', \n",
    "           'application_type_binary', 'loan_amnt_category_code', 'annual_inc_category_code']"
   ]
  },
  {
   "cell_type": "code",
   "execution_count": 7,
   "metadata": {
    "collapsed": false
   },
   "outputs": [],
   "source": [
    "df = df[columns]"
   ]
  },
  {
   "cell_type": "code",
   "execution_count": 8,
   "metadata": {
    "collapsed": true
   },
   "outputs": [],
   "source": [
    "df['grade'] = (df['grade']).astype('category')\n",
    "df['purpose'] = (df['purpose']).astype('category')\n",
    "df['addr_state'] = (df['addr_state']).astype('category')"
   ]
  },
  {
   "cell_type": "code",
   "execution_count": 9,
   "metadata": {
    "collapsed": true
   },
   "outputs": [],
   "source": [
    "#converting all the category columns to int by taking category-code\n",
    "cat_columns = df.select_dtypes(['category']).columns\n",
    "df[cat_columns] = df[cat_columns].apply(lambda x: x.cat.codes)"
   ]
  },
  {
   "cell_type": "markdown",
   "metadata": {},
   "source": [
    "# Prediction"
   ]
  },
  {
   "cell_type": "code",
   "execution_count": 10,
   "metadata": {
    "collapsed": false
   },
   "outputs": [],
   "source": [
    "#dividing the DF into two for test & train data\n",
    "from sklearn.model_selection import train_test_split\n",
    "train_loans, test_loans = train_test_split(df, test_size = 0.3)"
   ]
  },
  {
   "cell_type": "code",
   "execution_count": 11,
   "metadata": {
    "collapsed": true
   },
   "outputs": [],
   "source": [
    "#inputs required for classification\n",
    "train_y = train_loans['int_rate']\n",
    "train_X = train_loans.drop(['int_rate'], axis = 1)\n",
    "\n",
    "test_y = test_loans['int_rate']\n",
    "test_X = test_loans.drop(['int_rate'], axis = 1)"
   ]
  },
  {
   "cell_type": "code",
   "execution_count": 12,
   "metadata": {
    "collapsed": false
   },
   "outputs": [],
   "source": [
    "#preprocessingthe data : scale between 0 and 1\n",
    "from sklearn import preprocessing\n",
    "\n",
    "train_X = preprocessing.minmax_scale(train_X) \n",
    "test_X = preprocessing.minmax_scale(test_X)"
   ]
  },
  {
   "cell_type": "code",
   "execution_count": 13,
   "metadata": {
    "collapsed": true
   },
   "outputs": [],
   "source": [
    "from sklearn.metrics import mean_squared_error, mean_absolute_error, median_absolute_error\n",
    "\n",
    "def build_error_metric(model, y_train, y_train_predicted, y_test, y_test_predicted, error_df):\n",
    "    \n",
    "    rms_train = mean_squared_error(y_train, y_train_predicted)\n",
    "    rms_test = mean_squared_error(y_test, y_test_predicted)\n",
    "    \n",
    "    rmse_train = mean_squared_error(y_train, y_train_predicted)**0.5\n",
    "    rmse_test = mean_squared_error(y_test, y_test_predicted)**0.5\n",
    "    \n",
    "    mae_train = mean_absolute_error(y_train, y_train_predicted)\n",
    "    mae_test = mean_absolute_error(y_test, y_test_predicted)\n",
    "    \n",
    "    mape_train = median_absolute_error(y_train, y_train_predicted)\n",
    "    mape_test = median_absolute_error(y_test, y_test_predicted)\n",
    "    \n",
    "    df = pd.DataFrame({'Model':[model],\n",
    "                             'rmse_train':[rmse_train], \n",
    "                             'rmse_test': [rmse_test],\n",
    "                             'rms_train':[rms_train], \n",
    "                             'rms_test': [rms_test],\n",
    "                             'mae_train': [mae_train],\n",
    "                             'mae_test':[mae_test],\n",
    "                             'mape_train':[mape_train],\n",
    "                             'mape_test':[mape_test]})\n",
    "    \n",
    "    error_df = pd.concat([error_df, df])\n",
    "    return error_df"
   ]
  },
  {
   "cell_type": "markdown",
   "metadata": {},
   "source": [
    "# Linear regression"
   ]
  },
  {
   "cell_type": "code",
   "execution_count": 14,
   "metadata": {
    "collapsed": true
   },
   "outputs": [],
   "source": [
    "from sklearn.linear_model import LinearRegression\n",
    "import matplotlib.pyplot as plt"
   ]
  },
  {
   "cell_type": "code",
   "execution_count": 15,
   "metadata": {
    "collapsed": true
   },
   "outputs": [],
   "source": [
    "#Linear Regression\n",
    "def TrainLinearRegression(train_X, train_y, test_X, test_y, error_df):\n",
    "    print(\"Linear Regression---------\")\n",
    "    print(\"Working on Training Data\")\n",
    "    model = LinearRegression()\n",
    "    model.fit(train_X, train_y)\n",
    "    \n",
    "    y_train_predicted = model.predict(train_X)\n",
    "    \n",
    "    print(\"Working on Testing Data\")\n",
    "    model.fit(test_X, test_y)\n",
    "    \n",
    "    y_test_predicted = model.predict(test_X)\n",
    "    \n",
    "    error_df = build_error_metric('Linear Regression', train_y, y_train_predicted, test_y, y_test_predicted, error_df)\n",
    "    \n",
    "    return error_df"
   ]
  },
  {
   "cell_type": "markdown",
   "metadata": {},
   "source": [
    "# Random forest"
   ]
  },
  {
   "cell_type": "code",
   "execution_count": 16,
   "metadata": {
    "collapsed": true
   },
   "outputs": [],
   "source": [
    "from sklearn.ensemble import RandomForestRegressor"
   ]
  },
  {
   "cell_type": "code",
   "execution_count": 17,
   "metadata": {
    "collapsed": true
   },
   "outputs": [],
   "source": [
    "#Random forest\n",
    "def TrainRandomForest(train_X, train_y, test_X, test_y, error_df):\n",
    "    print(\"Random forest---------\")\n",
    "    print(\"Working on Training Data\")\n",
    "    model = RandomForestRegressor(n_estimators=20)\n",
    "    model.fit(train_X, train_y)\n",
    "    \n",
    "    y_train_predicted = model.predict(train_X)\n",
    "    \n",
    "    print(\"Working on Testing Data\")\n",
    "    model.fit(test_X, test_y)\n",
    "    \n",
    "    y_test_predicted = model.predict(test_X)\n",
    "    \n",
    "    error_df = build_error_metric('Random forest', train_y, y_train_predicted, test_y, y_test_predicted, error_df)\n",
    "    \n",
    "    return error_df"
   ]
  },
  {
   "cell_type": "markdown",
   "metadata": {},
   "source": [
    "# KNN"
   ]
  },
  {
   "cell_type": "code",
   "execution_count": 18,
   "metadata": {
    "collapsed": true
   },
   "outputs": [],
   "source": [
    "from sklearn.neighbors import KNeighborsRegressor"
   ]
  },
  {
   "cell_type": "code",
   "execution_count": 19,
   "metadata": {
    "collapsed": true
   },
   "outputs": [],
   "source": [
    "#KNN\n",
    "def TrainKNN(train_X, train_y, test_X, test_y, error_df):\n",
    "    print(\"KNN---------\")\n",
    "    print(\"Working on Training Data\")\n",
    "    model = KNeighborsRegressor(n_neighbors=3)\n",
    "    model.fit(train_X, train_y)\n",
    "    \n",
    "    y_train_predicted = model.predict(train_X)\n",
    "    \n",
    "    print(\"Working on Testing Data\")\n",
    "    model.fit(test_X, test_y)\n",
    "    \n",
    "    y_test_predicted = model.predict(test_X)\n",
    "    \n",
    "    error_df = build_error_metric('KNN', train_y, y_train_predicted, test_y, y_test_predicted, error_df)\n",
    "    \n",
    "    return error_df"
   ]
  },
  {
   "cell_type": "markdown",
   "metadata": {},
   "source": [
    "# Neural network"
   ]
  },
  {
   "cell_type": "code",
   "execution_count": 20,
   "metadata": {
    "collapsed": true
   },
   "outputs": [],
   "source": [
    "from sklearn.neural_network import MLPRegressor"
   ]
  },
  {
   "cell_type": "code",
   "execution_count": 21,
   "metadata": {
    "collapsed": true
   },
   "outputs": [],
   "source": [
    "#Neural network\n",
    "def TrainNeuralNetwork(train_X, train_y, test_X, test_y, error_df):\n",
    "    print(\"Neural network---------\")\n",
    "    print(\"Working on Training Data\")\n",
    "    model = MLPRegressor()\n",
    "    model.fit(train_X, train_y)\n",
    "    \n",
    "    y_train_predicted = model.predict(train_X)\n",
    "    \n",
    "    print(\"Working on Testing Data\")\n",
    "    model.fit(test_X, test_y)\n",
    "    \n",
    "    y_test_predicted = model.predict(test_X)\n",
    "    \n",
    "    error_df = build_error_metric('Neural network', train_y, y_train_predicted, test_y, y_test_predicted, error_df)\n",
    "    \n",
    "    return error_df"
   ]
  },
  {
   "cell_type": "code",
   "execution_count": 22,
   "metadata": {
    "collapsed": false
   },
   "outputs": [],
   "source": [
    "error_df = pd.DataFrame({'rmse_train':[], \n",
    "                             'rmse_test': [],\n",
    "                             'rms_train':[], \n",
    "                             'rms_test': [],\n",
    "                             'mae_train': [],\n",
    "                             'mae_test':[],\n",
    "                             'mape_train':[],\n",
    "                             'mape_test':[]})"
   ]
  },
  {
   "cell_type": "code",
   "execution_count": 23,
   "metadata": {
    "collapsed": false
   },
   "outputs": [
    {
     "name": "stdout",
     "output_type": "stream",
     "text": [
      "Linear Regression---------\n",
      "Working on Training Data\n",
      "Working on Testing Data\n"
     ]
    }
   ],
   "source": [
    "error_df = TrainLinearRegression(train_X, train_y, test_X, test_y, error_df)"
   ]
  },
  {
   "cell_type": "code",
   "execution_count": 24,
   "metadata": {
    "collapsed": false
   },
   "outputs": [
    {
     "data": {
      "text/html": [
       "<div>\n",
       "<table border=\"1\" class=\"dataframe\">\n",
       "  <thead>\n",
       "    <tr style=\"text-align: right;\">\n",
       "      <th></th>\n",
       "      <th>Model</th>\n",
       "      <th>mae_test</th>\n",
       "      <th>mae_train</th>\n",
       "      <th>mape_test</th>\n",
       "      <th>mape_train</th>\n",
       "      <th>rms_test</th>\n",
       "      <th>rms_train</th>\n",
       "      <th>rmse_test</th>\n",
       "      <th>rmse_train</th>\n",
       "    </tr>\n",
       "  </thead>\n",
       "  <tbody>\n",
       "    <tr>\n",
       "      <th>0</th>\n",
       "      <td>Linear Regression</td>\n",
       "      <td>1.035386</td>\n",
       "      <td>1.036106</td>\n",
       "      <td>0.881522</td>\n",
       "      <td>0.883259</td>\n",
       "      <td>1.733265</td>\n",
       "      <td>1.73956</td>\n",
       "      <td>1.316535</td>\n",
       "      <td>1.318924</td>\n",
       "    </tr>\n",
       "  </tbody>\n",
       "</table>\n",
       "</div>"
      ],
      "text/plain": [
       "               Model  mae_test  mae_train  mape_test  mape_train  rms_test  \\\n",
       "0  Linear Regression  1.035386   1.036106   0.881522    0.883259  1.733265   \n",
       "\n",
       "   rms_train  rmse_test  rmse_train  \n",
       "0    1.73956   1.316535    1.318924  "
      ]
     },
     "execution_count": 24,
     "metadata": {},
     "output_type": "execute_result"
    }
   ],
   "source": [
    "error_df"
   ]
  },
  {
   "cell_type": "code",
   "execution_count": 25,
   "metadata": {
    "collapsed": false
   },
   "outputs": [
    {
     "name": "stdout",
     "output_type": "stream",
     "text": [
      "Random forest---------\n",
      "Working on Training Data\n",
      "Working on Testing Data\n"
     ]
    }
   ],
   "source": [
    "error_df = TrainRandomForest(train_X, train_y, test_X, test_y, error_df)"
   ]
  },
  {
   "cell_type": "code",
   "execution_count": 26,
   "metadata": {
    "collapsed": false
   },
   "outputs": [
    {
     "data": {
      "text/html": [
       "<div>\n",
       "<table border=\"1\" class=\"dataframe\">\n",
       "  <thead>\n",
       "    <tr style=\"text-align: right;\">\n",
       "      <th></th>\n",
       "      <th>Model</th>\n",
       "      <th>mae_test</th>\n",
       "      <th>mae_train</th>\n",
       "      <th>mape_test</th>\n",
       "      <th>mape_train</th>\n",
       "      <th>rms_test</th>\n",
       "      <th>rms_train</th>\n",
       "      <th>rmse_test</th>\n",
       "      <th>rmse_train</th>\n",
       "    </tr>\n",
       "  </thead>\n",
       "  <tbody>\n",
       "    <tr>\n",
       "      <th>0</th>\n",
       "      <td>Linear Regression</td>\n",
       "      <td>1.035386</td>\n",
       "      <td>1.036106</td>\n",
       "      <td>0.881522</td>\n",
       "      <td>0.883259</td>\n",
       "      <td>1.733265</td>\n",
       "      <td>1.739560</td>\n",
       "      <td>1.316535</td>\n",
       "      <td>1.318924</td>\n",
       "    </tr>\n",
       "    <tr>\n",
       "      <th>0</th>\n",
       "      <td>Random forest</td>\n",
       "      <td>0.334688</td>\n",
       "      <td>0.333544</td>\n",
       "      <td>0.271500</td>\n",
       "      <td>0.270000</td>\n",
       "      <td>0.189525</td>\n",
       "      <td>0.188969</td>\n",
       "      <td>0.435344</td>\n",
       "      <td>0.434706</td>\n",
       "    </tr>\n",
       "  </tbody>\n",
       "</table>\n",
       "</div>"
      ],
      "text/plain": [
       "               Model  mae_test  mae_train  mape_test  mape_train  rms_test  \\\n",
       "0  Linear Regression  1.035386   1.036106   0.881522    0.883259  1.733265   \n",
       "0      Random forest  0.334688   0.333544   0.271500    0.270000  0.189525   \n",
       "\n",
       "   rms_train  rmse_test  rmse_train  \n",
       "0   1.739560   1.316535    1.318924  \n",
       "0   0.188969   0.435344    0.434706  "
      ]
     },
     "execution_count": 26,
     "metadata": {},
     "output_type": "execute_result"
    }
   ],
   "source": [
    "error_df"
   ]
  },
  {
   "cell_type": "code",
   "execution_count": 27,
   "metadata": {
    "collapsed": false
   },
   "outputs": [
    {
     "name": "stdout",
     "output_type": "stream",
     "text": [
      "Neural network---------\n",
      "Working on Training Data\n",
      "Working on Testing Data\n"
     ]
    }
   ],
   "source": [
    "error_df = TrainNeuralNetwork(train_X, train_y, test_X, test_y, error_df)"
   ]
  },
  {
   "cell_type": "code",
   "execution_count": 28,
   "metadata": {
    "collapsed": false
   },
   "outputs": [
    {
     "data": {
      "text/html": [
       "<div>\n",
       "<table border=\"1\" class=\"dataframe\">\n",
       "  <thead>\n",
       "    <tr style=\"text-align: right;\">\n",
       "      <th></th>\n",
       "      <th>Model</th>\n",
       "      <th>mae_test</th>\n",
       "      <th>mae_train</th>\n",
       "      <th>mape_test</th>\n",
       "      <th>mape_train</th>\n",
       "      <th>rms_test</th>\n",
       "      <th>rms_train</th>\n",
       "      <th>rmse_test</th>\n",
       "      <th>rmse_train</th>\n",
       "    </tr>\n",
       "  </thead>\n",
       "  <tbody>\n",
       "    <tr>\n",
       "      <th>0</th>\n",
       "      <td>Linear Regression</td>\n",
       "      <td>1.035386</td>\n",
       "      <td>1.036106</td>\n",
       "      <td>0.881522</td>\n",
       "      <td>0.883259</td>\n",
       "      <td>1.733265</td>\n",
       "      <td>1.739560</td>\n",
       "      <td>1.316535</td>\n",
       "      <td>1.318924</td>\n",
       "    </tr>\n",
       "    <tr>\n",
       "      <th>0</th>\n",
       "      <td>Random forest</td>\n",
       "      <td>0.334688</td>\n",
       "      <td>0.333544</td>\n",
       "      <td>0.271500</td>\n",
       "      <td>0.270000</td>\n",
       "      <td>0.189525</td>\n",
       "      <td>0.188969</td>\n",
       "      <td>0.435344</td>\n",
       "      <td>0.434706</td>\n",
       "    </tr>\n",
       "    <tr>\n",
       "      <th>0</th>\n",
       "      <td>Neural network</td>\n",
       "      <td>0.883463</td>\n",
       "      <td>0.863857</td>\n",
       "      <td>0.799292</td>\n",
       "      <td>0.785976</td>\n",
       "      <td>1.168594</td>\n",
       "      <td>1.135427</td>\n",
       "      <td>1.081015</td>\n",
       "      <td>1.065564</td>\n",
       "    </tr>\n",
       "  </tbody>\n",
       "</table>\n",
       "</div>"
      ],
      "text/plain": [
       "               Model  mae_test  mae_train  mape_test  mape_train  rms_test  \\\n",
       "0  Linear Regression  1.035386   1.036106   0.881522    0.883259  1.733265   \n",
       "0      Random forest  0.334688   0.333544   0.271500    0.270000  0.189525   \n",
       "0     Neural network  0.883463   0.863857   0.799292    0.785976  1.168594   \n",
       "\n",
       "   rms_train  rmse_test  rmse_train  \n",
       "0   1.739560   1.316535    1.318924  \n",
       "0   0.188969   0.435344    0.434706  \n",
       "0   1.135427   1.081015    1.065564  "
      ]
     },
     "execution_count": 28,
     "metadata": {},
     "output_type": "execute_result"
    }
   ],
   "source": [
    "error_df"
   ]
  },
  {
   "cell_type": "code",
   "execution_count": 29,
   "metadata": {
    "collapsed": false
   },
   "outputs": [
    {
     "name": "stdout",
     "output_type": "stream",
     "text": [
      "KNN---------\n",
      "Working on Training Data\n",
      "Working on Testing Data\n"
     ]
    }
   ],
   "source": [
    "error_df = TrainKNN(train_X, train_y, test_X, test_y, error_df)"
   ]
  },
  {
   "cell_type": "code",
   "execution_count": 30,
   "metadata": {
    "collapsed": false
   },
   "outputs": [
    {
     "data": {
      "text/html": [
       "<div>\n",
       "<table border=\"1\" class=\"dataframe\">\n",
       "  <thead>\n",
       "    <tr style=\"text-align: right;\">\n",
       "      <th></th>\n",
       "      <th>Model</th>\n",
       "      <th>mae_test</th>\n",
       "      <th>mae_train</th>\n",
       "      <th>mape_test</th>\n",
       "      <th>mape_train</th>\n",
       "      <th>rms_test</th>\n",
       "      <th>rms_train</th>\n",
       "      <th>rmse_test</th>\n",
       "      <th>rmse_train</th>\n",
       "    </tr>\n",
       "  </thead>\n",
       "  <tbody>\n",
       "    <tr>\n",
       "      <th>0</th>\n",
       "      <td>Linear Regression</td>\n",
       "      <td>1.035386</td>\n",
       "      <td>1.036106</td>\n",
       "      <td>0.881522</td>\n",
       "      <td>0.883259</td>\n",
       "      <td>1.733265</td>\n",
       "      <td>1.739560</td>\n",
       "      <td>1.316535</td>\n",
       "      <td>1.318924</td>\n",
       "    </tr>\n",
       "    <tr>\n",
       "      <th>0</th>\n",
       "      <td>Random forest</td>\n",
       "      <td>0.334688</td>\n",
       "      <td>0.333544</td>\n",
       "      <td>0.271500</td>\n",
       "      <td>0.270000</td>\n",
       "      <td>0.189525</td>\n",
       "      <td>0.188969</td>\n",
       "      <td>0.435344</td>\n",
       "      <td>0.434706</td>\n",
       "    </tr>\n",
       "    <tr>\n",
       "      <th>0</th>\n",
       "      <td>Neural network</td>\n",
       "      <td>0.883463</td>\n",
       "      <td>0.863857</td>\n",
       "      <td>0.799292</td>\n",
       "      <td>0.785976</td>\n",
       "      <td>1.168594</td>\n",
       "      <td>1.135427</td>\n",
       "      <td>1.081015</td>\n",
       "      <td>1.065564</td>\n",
       "    </tr>\n",
       "    <tr>\n",
       "      <th>0</th>\n",
       "      <td>KNN</td>\n",
       "      <td>0.827008</td>\n",
       "      <td>0.773428</td>\n",
       "      <td>0.666667</td>\n",
       "      <td>0.640000</td>\n",
       "      <td>1.176684</td>\n",
       "      <td>1.016687</td>\n",
       "      <td>1.084751</td>\n",
       "      <td>1.008309</td>\n",
       "    </tr>\n",
       "  </tbody>\n",
       "</table>\n",
       "</div>"
      ],
      "text/plain": [
       "               Model  mae_test  mae_train  mape_test  mape_train  rms_test  \\\n",
       "0  Linear Regression  1.035386   1.036106   0.881522    0.883259  1.733265   \n",
       "0      Random forest  0.334688   0.333544   0.271500    0.270000  0.189525   \n",
       "0     Neural network  0.883463   0.863857   0.799292    0.785976  1.168594   \n",
       "0                KNN  0.827008   0.773428   0.666667    0.640000  1.176684   \n",
       "\n",
       "   rms_train  rmse_test  rmse_train  \n",
       "0   1.739560   1.316535    1.318924  \n",
       "0   0.188969   0.435344    0.434706  \n",
       "0   1.135427   1.081015    1.065564  \n",
       "0   1.016687   1.084751    1.008309  "
      ]
     },
     "execution_count": 30,
     "metadata": {},
     "output_type": "execute_result"
    }
   ],
   "source": [
    "error_df"
   ]
  }
 ],
 "metadata": {
  "kernelspec": {
   "display_name": "Python 3",
   "language": "python",
   "name": "python3"
  },
  "language_info": {
   "codemirror_mode": {
    "name": "ipython",
    "version": 3
   },
   "file_extension": ".py",
   "mimetype": "text/x-python",
   "name": "python",
   "nbconvert_exporter": "python",
   "pygments_lexer": "ipython3",
   "version": "3.6.0"
  }
 },
 "nbformat": 4,
 "nbformat_minor": 2
}
