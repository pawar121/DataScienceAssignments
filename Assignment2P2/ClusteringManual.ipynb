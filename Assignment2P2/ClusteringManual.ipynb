{
 "cells": [
  {
   "cell_type": "code",
   "execution_count": 1,
   "metadata": {
    "collapsed": false
   },
   "outputs": [],
   "source": [
    "import csv\n",
    "import os\n",
    "import pandas as pd\n",
    "import numpy as np\n",
    "import warnings\n",
    "warnings.filterwarnings('ignore')"
   ]
  },
  {
   "cell_type": "code",
   "execution_count": 2,
   "metadata": {
    "collapsed": false
   },
   "outputs": [],
   "source": [
    "#defining filedirectory\n",
    "fileDir = os.path.dirname(os.path.realpath('__file__'))"
   ]
  },
  {
   "cell_type": "code",
   "execution_count": 3,
   "metadata": {
    "collapsed": true
   },
   "outputs": [],
   "source": [
    "#defining data frames\n",
    "dfLoanData = pd.DataFrame()"
   ]
  },
  {
   "cell_type": "code",
   "execution_count": 4,
   "metadata": {
    "collapsed": false
   },
   "outputs": [
    {
     "name": "stdout",
     "output_type": "stream",
     "text": [
      "Reading from a file: LoanData.csv....\n"
     ]
    }
   ],
   "source": [
    "#reading clean-data from csv\n",
    "for directory, subdirectory, filenames in  os.walk(fileDir + '/CleanedData'):\n",
    "    for filename in filenames:\n",
    "        if filename == 'LoanData.csv':\n",
    "            print(\"Reading from a file: \" + filename + '....')\n",
    "            dfLoanData = pd.read_csv(os.path.join(directory, filename), encoding = 'ISO-8859-1')"
   ]
  },
  {
   "cell_type": "code",
   "execution_count": 16,
   "metadata": {
    "collapsed": true
   },
   "outputs": [],
   "source": [
    "#creating copies of data frames\n",
    "df = dfLoanData.copy()"
   ]
  },
  {
   "cell_type": "code",
   "execution_count": 17,
   "metadata": {
    "collapsed": true
   },
   "outputs": [],
   "source": [
    "columns = ['term', 'int_rate', 'grade', 'emp_length', 'purpose', 'addr_state', 'dti', 'delinq_2yrs', \n",
    "           'inq_last_6mths', 'pub_rec', 'revol_bal', 'total_acc', 'acc_now_delinq', \n",
    "           'issue_year', 'cr_line_history', 'Credit_Score_Code', \n",
    "           'Last_Credit_Score_Code','loan_status_binary', 'home_ownership_binary', 'verification_status_binary', \n",
    "           'application_type_binary', 'loan_amnt_category_code', 'annual_inc_category_code']"
   ]
  },
  {
   "cell_type": "code",
   "execution_count": 18,
   "metadata": {
    "collapsed": true
   },
   "outputs": [],
   "source": [
    "df = df[columns]"
   ]
  },
  {
   "cell_type": "code",
   "execution_count": 19,
   "metadata": {
    "collapsed": true
   },
   "outputs": [],
   "source": [
    "df['grade'] = (df['grade']).astype('category')\n",
    "df['purpose'] = (df['purpose']).astype('category')\n",
    "df['addr_state'] = (df['addr_state']).astype('category')"
   ]
  },
  {
   "cell_type": "code",
   "execution_count": 20,
   "metadata": {
    "collapsed": true
   },
   "outputs": [],
   "source": [
    "#converting all the category columns to int by taking category-code\n",
    "cat_columns = df.select_dtypes(['category']).columns\n",
    "df[cat_columns] = df[cat_columns].apply(lambda x: x.cat.codes)"
   ]
  },
  {
   "cell_type": "markdown",
   "metadata": {},
   "source": [
    "# Manual Clustering"
   ]
  },
  {
   "cell_type": "code",
   "execution_count": 22,
   "metadata": {
    "collapsed": true
   },
   "outputs": [],
   "source": [
    "##according to lending club site \n",
    "## poor - < 600\n",
    "## fair - 600-660\n",
    "## good - 660-720\n",
    "## excellent - 720+ \n",
    "\n",
    "## GROUP 1-> we dont have much records in 600 range - so we can combine till 10 code - 672\n",
    "## GROUP 2-> code 11 - 673 - 690\n",
    "## GROUP 3-> 12 - 691 - 708\n",
    "## GROUP 4->code 13+14 - 709 - 726  code 14 - 727 - 744\n",
    "## GROUP 6->code 15 +"
   ]
  },
  {
   "cell_type": "code",
   "execution_count": 42,
   "metadata": {
    "collapsed": true
   },
   "outputs": [],
   "source": [
    "def create_cluster (row):\n",
    "    if (row['Credit_Score_Code'] <= 10) & (row['purpose'] == 2):\n",
    "        return 0\n",
    "    elif (row['Credit_Score_Code'] <= 10) & (row['purpose'] != 2):\n",
    "        return 1\n",
    "    elif (row['Credit_Score_Code'] == 11) & (row['purpose'] == 2):\n",
    "        return 2\n",
    "    elif (row['Credit_Score_Code'] == 11) & (row['purpose'] != 2):\n",
    "        return 3\n",
    "    elif (row['Credit_Score_Code'] == 12) & (row['purpose'] == 2):\n",
    "        return 4\n",
    "    elif (row['Credit_Score_Code'] == 12) & (row['purpose'] != 2):\n",
    "        return 5\n",
    "    elif (row['Credit_Score_Code'] >= 13) & (row['purpose'] == 2):\n",
    "        return 6\n",
    "    elif (row['Credit_Score_Code'] >= 13) & (row['purpose'] != 2):\n",
    "        return 7\n",
    "    else:\n",
    "        return 8"
   ]
  },
  {
   "cell_type": "code",
   "execution_count": 43,
   "metadata": {
    "collapsed": false
   },
   "outputs": [],
   "source": [
    "df['cluster'] = df.apply (lambda row: create_cluster (row),axis=1)"
   ]
  },
  {
   "cell_type": "code",
   "execution_count": 45,
   "metadata": {
    "collapsed": false
   },
   "outputs": [],
   "source": [
    "clusteredLoansPath = fileDir+'/CleanedData/ManualClusteredLoans.csv'"
   ]
  },
  {
   "cell_type": "code",
   "execution_count": 46,
   "metadata": {
    "collapsed": true
   },
   "outputs": [],
   "source": [
    "#function to write the data in chunks\n",
    "def chunker(seq, size):\n",
    "    return (seq[pos:pos + size] for pos in range(0, len(seq), size))"
   ]
  },
  {
   "cell_type": "code",
   "execution_count": 47,
   "metadata": {
    "collapsed": true
   },
   "outputs": [],
   "source": [
    "withHeaders = True\n",
    "for i in chunker(df,50000):\n",
    "    if(withHeaders):\n",
    "        i.to_csv(clusteredLoansPath, index=False, mode='a')\n",
    "        withHeaders = False\n",
    "    else:\n",
    "        i.to_csv(clusteredLoansPath, index=False, mode='a', header = False)"
   ]
  }
 ],
 "metadata": {
  "kernelspec": {
   "display_name": "Python 3",
   "language": "python",
   "name": "python3"
  },
  "language_info": {
   "codemirror_mode": {
    "name": "ipython",
    "version": 3
   },
   "file_extension": ".py",
   "mimetype": "text/x-python",
   "name": "python",
   "nbconvert_exporter": "python",
   "pygments_lexer": "ipython3",
   "version": "3.6.0"
  }
 },
 "nbformat": 4,
 "nbformat_minor": 2
}
