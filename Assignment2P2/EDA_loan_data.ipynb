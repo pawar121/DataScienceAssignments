{
 "cells": [
  {
   "cell_type": "code",
   "execution_count": 1,
   "metadata": {
    "collapsed": false
   },
   "outputs": [
    {
     "name": "stderr",
     "output_type": "stream",
     "text": [
      "C:\\ProgramData\\Anaconda3\\lib\\site-packages\\plotly\\tools.py:97: UserWarning:\n",
      "\n",
      "Looks like you don't have 'read-write' permission to your 'home' ('~') directory or to our '~/.plotly' directory. That means plotly's python api can't setup local configuration files. No problem though! You'll just have to sign-in using 'plotly.plotly.sign_in()'. For help with that: 'help(plotly.plotly.sign_in)'.\n",
      "Questions? Visit community.plot.ly or upgrade to a Pro plan for 1-1 help: https://goo.gl/1YUVu9\n",
      "\n"
     ]
    },
    {
     "data": {
      "text/html": [
       "<script>requirejs.config({paths: { 'plotly': ['https://cdn.plot.ly/plotly-latest.min']},});if(!window.Plotly) {{require(['plotly'],function(plotly) {window.Plotly=plotly;});}}</script>"
      ],
      "text/vnd.plotly.v1+html": [
       "<script>requirejs.config({paths: { 'plotly': ['https://cdn.plot.ly/plotly-latest.min']},});if(!window.Plotly) {{require(['plotly'],function(plotly) {window.Plotly=plotly;});}}</script>"
      ]
     },
     "metadata": {},
     "output_type": "display_data"
    }
   ],
   "source": [
    "#improting all the required packages\n",
    "import os\n",
    "import pandas as pd\n",
    "import numpy as np\n",
    "import seaborn as sns\n",
    "import matplotlib as mpl\n",
    "import matplotlib.pyplot as plt\n",
    "np.random.seed(sum(map(ord, \"aesthetics\")))\n",
    "%matplotlib inline\n",
    "import plotly.plotly as py\n",
    "import plotly.graph_objs as go\n",
    "from plotly import tools\n",
    "from plotly.offline import download_plotlyjs, init_notebook_mode, plot, iplot\n",
    "init_notebook_mode(connected=True)\n",
    "#print (df.columns)"
   ]
  },
  {
   "cell_type": "code",
   "execution_count": 2,
   "metadata": {
    "collapsed": true
   },
   "outputs": [],
   "source": [
    "#function to read large CSV files in chunks\n",
    "def readCSVFile(fileName):\n",
    "    df = pd.read_csv(fileName, encoding = 'ISO-8859-1')\n",
    "    return df"
   ]
  },
  {
   "cell_type": "code",
   "execution_count": 3,
   "metadata": {
    "collapsed": true
   },
   "outputs": [],
   "source": [
    "#defining the file-directory\n",
    "fileDir = os.path.dirname(os.path.realpath('__file__'))"
   ]
  },
  {
   "cell_type": "code",
   "execution_count": 4,
   "metadata": {
    "collapsed": false
   },
   "outputs": [
    {
     "data": {
      "text/html": [
       "<div>\n",
       "<table border=\"1\" class=\"dataframe\">\n",
       "  <thead>\n",
       "    <tr style=\"text-align: right;\">\n",
       "      <th></th>\n",
       "      <th>loan_amnt</th>\n",
       "      <th>funded_amnt</th>\n",
       "      <th>funded_amnt_inv</th>\n",
       "      <th>term</th>\n",
       "      <th>int_rate</th>\n",
       "      <th>installment</th>\n",
       "      <th>grade</th>\n",
       "      <th>sub_grade</th>\n",
       "      <th>emp_title</th>\n",
       "      <th>emp_length</th>\n",
       "      <th>...</th>\n",
       "      <th>tot_hi_cred_lim</th>\n",
       "      <th>total_bal_ex_mort</th>\n",
       "      <th>total_bc_limit</th>\n",
       "      <th>total_il_high_credit_limit</th>\n",
       "      <th>loan_status_binary</th>\n",
       "      <th>issue_month</th>\n",
       "      <th>issue_year</th>\n",
       "      <th>cr_line_history</th>\n",
       "      <th>cat_loan_amnt</th>\n",
       "      <th>cat_annual_inc</th>\n",
       "    </tr>\n",
       "  </thead>\n",
       "  <tbody>\n",
       "    <tr>\n",
       "      <th>0</th>\n",
       "      <td>5000.0</td>\n",
       "      <td>5000.0</td>\n",
       "      <td>5000.0</td>\n",
       "      <td>36</td>\n",
       "      <td>10.49</td>\n",
       "      <td>162.49</td>\n",
       "      <td>B</td>\n",
       "      <td>B2</td>\n",
       "      <td>driver</td>\n",
       "      <td>10</td>\n",
       "      <td>...</td>\n",
       "      <td>47169.0</td>\n",
       "      <td>23339.0</td>\n",
       "      <td>13600.0</td>\n",
       "      <td>33569.0</td>\n",
       "      <td>0</td>\n",
       "      <td>12</td>\n",
       "      <td>2016</td>\n",
       "      <td>26</td>\n",
       "      <td>0</td>\n",
       "      <td>3</td>\n",
       "    </tr>\n",
       "    <tr>\n",
       "      <th>1</th>\n",
       "      <td>3600.0</td>\n",
       "      <td>3600.0</td>\n",
       "      <td>3600.0</td>\n",
       "      <td>36</td>\n",
       "      <td>11.39</td>\n",
       "      <td>118.53</td>\n",
       "      <td>B</td>\n",
       "      <td>B3</td>\n",
       "      <td>IT Specialist 6</td>\n",
       "      <td>10</td>\n",
       "      <td>...</td>\n",
       "      <td>68290.0</td>\n",
       "      <td>45497.0</td>\n",
       "      <td>35400.0</td>\n",
       "      <td>14290.0</td>\n",
       "      <td>0</td>\n",
       "      <td>12</td>\n",
       "      <td>2016</td>\n",
       "      <td>22</td>\n",
       "      <td>0</td>\n",
       "      <td>3</td>\n",
       "    </tr>\n",
       "    <tr>\n",
       "      <th>2</th>\n",
       "      <td>7000.0</td>\n",
       "      <td>7000.0</td>\n",
       "      <td>7000.0</td>\n",
       "      <td>36</td>\n",
       "      <td>5.32</td>\n",
       "      <td>210.81</td>\n",
       "      <td>A</td>\n",
       "      <td>A1</td>\n",
       "      <td>Nurse</td>\n",
       "      <td>2</td>\n",
       "      <td>...</td>\n",
       "      <td>73420.0</td>\n",
       "      <td>42606.0</td>\n",
       "      <td>18700.0</td>\n",
       "      <td>40120.0</td>\n",
       "      <td>0</td>\n",
       "      <td>12</td>\n",
       "      <td>2016</td>\n",
       "      <td>24</td>\n",
       "      <td>0</td>\n",
       "      <td>3</td>\n",
       "    </tr>\n",
       "    <tr>\n",
       "      <th>3</th>\n",
       "      <td>19200.0</td>\n",
       "      <td>19200.0</td>\n",
       "      <td>19200.0</td>\n",
       "      <td>36</td>\n",
       "      <td>13.99</td>\n",
       "      <td>656.12</td>\n",
       "      <td>C</td>\n",
       "      <td>C3</td>\n",
       "      <td>Foreman</td>\n",
       "      <td>10</td>\n",
       "      <td>...</td>\n",
       "      <td>277588.0</td>\n",
       "      <td>24788.0</td>\n",
       "      <td>15300.0</td>\n",
       "      <td>16273.0</td>\n",
       "      <td>0</td>\n",
       "      <td>12</td>\n",
       "      <td>2016</td>\n",
       "      <td>13</td>\n",
       "      <td>3</td>\n",
       "      <td>3</td>\n",
       "    </tr>\n",
       "    <tr>\n",
       "      <th>4</th>\n",
       "      <td>6000.0</td>\n",
       "      <td>6000.0</td>\n",
       "      <td>6000.0</td>\n",
       "      <td>36</td>\n",
       "      <td>7.49</td>\n",
       "      <td>186.61</td>\n",
       "      <td>A</td>\n",
       "      <td>A4</td>\n",
       "      <td>Empty Multi-level Distribution Supv</td>\n",
       "      <td>5</td>\n",
       "      <td>...</td>\n",
       "      <td>70949.0</td>\n",
       "      <td>45718.0</td>\n",
       "      <td>23900.0</td>\n",
       "      <td>39549.0</td>\n",
       "      <td>0</td>\n",
       "      <td>12</td>\n",
       "      <td>2016</td>\n",
       "      <td>13</td>\n",
       "      <td>0</td>\n",
       "      <td>2</td>\n",
       "    </tr>\n",
       "  </tbody>\n",
       "</table>\n",
       "<p>5 rows × 88 columns</p>\n",
       "</div>"
      ],
      "text/plain": [
       "   loan_amnt  funded_amnt  funded_amnt_inv  term  int_rate  installment grade  \\\n",
       "0     5000.0       5000.0           5000.0    36     10.49       162.49     B   \n",
       "1     3600.0       3600.0           3600.0    36     11.39       118.53     B   \n",
       "2     7000.0       7000.0           7000.0    36      5.32       210.81     A   \n",
       "3    19200.0      19200.0          19200.0    36     13.99       656.12     C   \n",
       "4     6000.0       6000.0           6000.0    36      7.49       186.61     A   \n",
       "\n",
       "  sub_grade                            emp_title  emp_length       ...        \\\n",
       "0        B2                               driver          10       ...         \n",
       "1        B3                      IT Specialist 6          10       ...         \n",
       "2        A1                                Nurse           2       ...         \n",
       "3        C3                              Foreman          10       ...         \n",
       "4        A4  Empty Multi-level Distribution Supv           5       ...         \n",
       "\n",
       "   tot_hi_cred_lim  total_bal_ex_mort  total_bc_limit  \\\n",
       "0          47169.0            23339.0         13600.0   \n",
       "1          68290.0            45497.0         35400.0   \n",
       "2          73420.0            42606.0         18700.0   \n",
       "3         277588.0            24788.0         15300.0   \n",
       "4          70949.0            45718.0         23900.0   \n",
       "\n",
       "  total_il_high_credit_limit loan_status_binary issue_month issue_year  \\\n",
       "0                    33569.0                  0          12       2016   \n",
       "1                    14290.0                  0          12       2016   \n",
       "2                    40120.0                  0          12       2016   \n",
       "3                    16273.0                  0          12       2016   \n",
       "4                    39549.0                  0          12       2016   \n",
       "\n",
       "  cr_line_history cat_loan_amnt  cat_annual_inc  \n",
       "0              26             0               3  \n",
       "1              22             0               3  \n",
       "2              24             0               3  \n",
       "3              13             3               3  \n",
       "4              13             0               2  \n",
       "\n",
       "[5 rows x 88 columns]"
      ]
     },
     "execution_count": 4,
     "metadata": {},
     "output_type": "execute_result"
    }
   ],
   "source": [
    "#reading data from ~/data/vehicle_collisions.csv\n",
    "csvName = fileDir+'\\\\CleanedData\\\\LoanData.csv'\n",
    "dfLoans = readCSVFile(csvName)\n",
    "dfLoans.head()"
   ]
  },
  {
   "cell_type": "code",
   "execution_count": 5,
   "metadata": {
    "collapsed": false
   },
   "outputs": [
    {
     "data": {
      "text/plain": [
       "<matplotlib.text.Text at 0x2a66a600ac8>"
      ]
     },
     "execution_count": 5,
     "metadata": {},
     "output_type": "execute_result"
    },
    {
     "data": {
      "image/png": "[encoded data removed]",
      "text/plain": [
       "<matplotlib.figure.Figure at 0x2a646030320>"
      ]
     },
     "metadata": {},
     "output_type": "display_data"
    },
    {
     "data": {
      "text/plain": [
       "<matplotlib.figure.Figure at 0x2a644233438>"
      ]
     },
     "metadata": {},
     "output_type": "display_data"
    }
   ],
   "source": [
    "#Box plot analysis for Year wise Total Loan amount\n",
    "sns.set_style(\"whitegrid\")\n",
    "ax = sns.boxplot(x=\"issue_year\", y=\"loan_amnt\",data=dfLoans)\n",
    "fig = plt.figure()\n",
    "ax.set_title(\"Year wise Trend of Loan Amounts Sanctioned\")"
   ]
  },
  {
   "cell_type": "code",
   "execution_count": 6,
   "metadata": {
    "collapsed": false
   },
   "outputs": [
    {
     "data": {
      "text/plain": [
       "<matplotlib.text.Text at 0x2a608521208>"
      ]
     },
     "execution_count": 6,
     "metadata": {},
     "output_type": "execute_result"
    },
    {
     "data": {
      "image/png": "[encoded data removed]",
      "text/plain": [
       "<matplotlib.figure.Figure at 0x2a6425e1a58>"
      ]
     },
     "metadata": {},
     "output_type": "display_data"
    },
    {
     "data": {
      "text/plain": [
       "<matplotlib.figure.Figure at 0x2a608472940>"
      ]
     },
     "metadata": {},
     "output_type": "display_data"
    }
   ],
   "source": [
    "#Box plot analysis for Year wise Interest rate\n",
    "sns.set_style(\"whitegrid\")\n",
    "ax = sns.boxplot(x=\"issue_year\", y=\"int_rate\",data=dfLoans)\n",
    "fig = plt.figure()\n",
    "ax.set_title(\"Year wise Trend of Loan Amounts Sanctioned\")"
   ]
  },
  {
   "cell_type": "code",
   "execution_count": 7,
   "metadata": {
    "collapsed": false
   },
   "outputs": [
    {
     "data": {
      "text/plain": [
       "<matplotlib.text.Text at 0x2a6087b4ac8>"
      ]
     },
     "execution_count": 7,
     "metadata": {},
     "output_type": "execute_result"
    },
    {
     "data": {
      "image/png": "[encoded data removed]",
      "text/plain": [
       "<matplotlib.figure.Figure at 0x2a6085ebdd8>"
      ]
     },
     "metadata": {},
     "output_type": "display_data"
    },
    {
     "data": {
      "text/plain": [
       "<matplotlib.figure.Figure at 0x2a6085ebda0>"
      ]
     },
     "metadata": {},
     "output_type": "display_data"
    }
   ],
   "source": [
    "#Grades VS DTI\n",
    "#Box plot analysis for Year wise Total Loan amount\n",
    "sns.set_style(\"whitegrid\")\n",
    "ax = sns.boxplot(x=\"grade\", y=\"dti\",data=dfLoans[dfLoans['dti'] <50])\n",
    "fig = plt.figure()\n",
    "ax.set_title(\"Grades vs DTI Ratio Analysis \")"
   ]
  },
  {
   "cell_type": "code",
   "execution_count": 8,
   "metadata": {
    "collapsed": false
   },
   "outputs": [
    {
     "name": "stdout",
     "output_type": "stream",
     "text": [
      "1287641\n",
      "34206\n"
     ]
    },
    {
     "data": {
      "text/html": [
       "<div>\n",
       "<table border=\"1\" class=\"dataframe\">\n",
       "  <thead>\n",
       "    <tr style=\"text-align: right;\">\n",
       "      <th></th>\n",
       "      <th>loan_amnt</th>\n",
       "      <th>funded_amnt</th>\n",
       "      <th>funded_amnt_inv</th>\n",
       "      <th>term</th>\n",
       "      <th>int_rate</th>\n",
       "      <th>installment</th>\n",
       "      <th>grade</th>\n",
       "      <th>sub_grade</th>\n",
       "      <th>emp_title</th>\n",
       "      <th>emp_length</th>\n",
       "      <th>...</th>\n",
       "      <th>tot_hi_cred_lim</th>\n",
       "      <th>total_bal_ex_mort</th>\n",
       "      <th>total_bc_limit</th>\n",
       "      <th>total_il_high_credit_limit</th>\n",
       "      <th>loan_status_binary</th>\n",
       "      <th>issue_month</th>\n",
       "      <th>issue_year</th>\n",
       "      <th>cr_line_history</th>\n",
       "      <th>cat_loan_amnt</th>\n",
       "      <th>cat_annual_inc</th>\n",
       "    </tr>\n",
       "  </thead>\n",
       "  <tbody>\n",
       "    <tr>\n",
       "      <th>0</th>\n",
       "      <td>5000.0</td>\n",
       "      <td>5000.0</td>\n",
       "      <td>5000.0</td>\n",
       "      <td>36</td>\n",
       "      <td>10.49</td>\n",
       "      <td>162.49</td>\n",
       "      <td>B</td>\n",
       "      <td>B2</td>\n",
       "      <td>driver</td>\n",
       "      <td>10</td>\n",
       "      <td>...</td>\n",
       "      <td>47169.0</td>\n",
       "      <td>23339.0</td>\n",
       "      <td>13600.0</td>\n",
       "      <td>33569.0</td>\n",
       "      <td>0</td>\n",
       "      <td>12</td>\n",
       "      <td>2016</td>\n",
       "      <td>26</td>\n",
       "      <td>0</td>\n",
       "      <td>3</td>\n",
       "    </tr>\n",
       "    <tr>\n",
       "      <th>1</th>\n",
       "      <td>3600.0</td>\n",
       "      <td>3600.0</td>\n",
       "      <td>3600.0</td>\n",
       "      <td>36</td>\n",
       "      <td>11.39</td>\n",
       "      <td>118.53</td>\n",
       "      <td>B</td>\n",
       "      <td>B3</td>\n",
       "      <td>IT Specialist 6</td>\n",
       "      <td>10</td>\n",
       "      <td>...</td>\n",
       "      <td>68290.0</td>\n",
       "      <td>45497.0</td>\n",
       "      <td>35400.0</td>\n",
       "      <td>14290.0</td>\n",
       "      <td>0</td>\n",
       "      <td>12</td>\n",
       "      <td>2016</td>\n",
       "      <td>22</td>\n",
       "      <td>0</td>\n",
       "      <td>3</td>\n",
       "    </tr>\n",
       "    <tr>\n",
       "      <th>2</th>\n",
       "      <td>7000.0</td>\n",
       "      <td>7000.0</td>\n",
       "      <td>7000.0</td>\n",
       "      <td>36</td>\n",
       "      <td>5.32</td>\n",
       "      <td>210.81</td>\n",
       "      <td>A</td>\n",
       "      <td>A1</td>\n",
       "      <td>Nurse</td>\n",
       "      <td>2</td>\n",
       "      <td>...</td>\n",
       "      <td>73420.0</td>\n",
       "      <td>42606.0</td>\n",
       "      <td>18700.0</td>\n",
       "      <td>40120.0</td>\n",
       "      <td>0</td>\n",
       "      <td>12</td>\n",
       "      <td>2016</td>\n",
       "      <td>24</td>\n",
       "      <td>0</td>\n",
       "      <td>3</td>\n",
       "    </tr>\n",
       "    <tr>\n",
       "      <th>3</th>\n",
       "      <td>19200.0</td>\n",
       "      <td>19200.0</td>\n",
       "      <td>19200.0</td>\n",
       "      <td>36</td>\n",
       "      <td>13.99</td>\n",
       "      <td>656.12</td>\n",
       "      <td>C</td>\n",
       "      <td>C3</td>\n",
       "      <td>Foreman</td>\n",
       "      <td>10</td>\n",
       "      <td>...</td>\n",
       "      <td>277588.0</td>\n",
       "      <td>24788.0</td>\n",
       "      <td>15300.0</td>\n",
       "      <td>16273.0</td>\n",
       "      <td>0</td>\n",
       "      <td>12</td>\n",
       "      <td>2016</td>\n",
       "      <td>13</td>\n",
       "      <td>3</td>\n",
       "      <td>3</td>\n",
       "    </tr>\n",
       "    <tr>\n",
       "      <th>4</th>\n",
       "      <td>6000.0</td>\n",
       "      <td>6000.0</td>\n",
       "      <td>6000.0</td>\n",
       "      <td>36</td>\n",
       "      <td>7.49</td>\n",
       "      <td>186.61</td>\n",
       "      <td>A</td>\n",
       "      <td>A4</td>\n",
       "      <td>Empty Multi-level Distribution Supv</td>\n",
       "      <td>5</td>\n",
       "      <td>...</td>\n",
       "      <td>70949.0</td>\n",
       "      <td>45718.0</td>\n",
       "      <td>23900.0</td>\n",
       "      <td>39549.0</td>\n",
       "      <td>0</td>\n",
       "      <td>12</td>\n",
       "      <td>2016</td>\n",
       "      <td>13</td>\n",
       "      <td>0</td>\n",
       "      <td>2</td>\n",
       "    </tr>\n",
       "  </tbody>\n",
       "</table>\n",
       "<p>5 rows × 88 columns</p>\n",
       "</div>"
      ],
      "text/plain": [
       "   loan_amnt  funded_amnt  funded_amnt_inv  term  int_rate  installment grade  \\\n",
       "0     5000.0       5000.0           5000.0    36     10.49       162.49     B   \n",
       "1     3600.0       3600.0           3600.0    36     11.39       118.53     B   \n",
       "2     7000.0       7000.0           7000.0    36      5.32       210.81     A   \n",
       "3    19200.0      19200.0          19200.0    36     13.99       656.12     C   \n",
       "4     6000.0       6000.0           6000.0    36      7.49       186.61     A   \n",
       "\n",
       "  sub_grade                            emp_title  emp_length       ...        \\\n",
       "0        B2                               driver          10       ...         \n",
       "1        B3                      IT Specialist 6          10       ...         \n",
       "2        A1                                Nurse           2       ...         \n",
       "3        C3                              Foreman          10       ...         \n",
       "4        A4  Empty Multi-level Distribution Supv           5       ...         \n",
       "\n",
       "   tot_hi_cred_lim  total_bal_ex_mort  total_bc_limit  \\\n",
       "0          47169.0            23339.0         13600.0   \n",
       "1          68290.0            45497.0         35400.0   \n",
       "2          73420.0            42606.0         18700.0   \n",
       "3         277588.0            24788.0         15300.0   \n",
       "4          70949.0            45718.0         23900.0   \n",
       "\n",
       "  total_il_high_credit_limit loan_status_binary issue_month issue_year  \\\n",
       "0                    33569.0                  0          12       2016   \n",
       "1                    14290.0                  0          12       2016   \n",
       "2                    40120.0                  0          12       2016   \n",
       "3                    16273.0                  0          12       2016   \n",
       "4                    39549.0                  0          12       2016   \n",
       "\n",
       "  cr_line_history cat_loan_amnt  cat_annual_inc  \n",
       "0              26             0               3  \n",
       "1              22             0               3  \n",
       "2              24             0               3  \n",
       "3              13             3               3  \n",
       "4              13             0               2  \n",
       "\n",
       "[5 rows x 88 columns]"
      ]
     },
     "execution_count": 8,
     "metadata": {},
     "output_type": "execute_result"
    }
   ],
   "source": [
    "nNoLate = len(dfLoans[dfLoans['loan_status_binary'] == 1])\n",
    "nLate = len(dfLoans[dfLoans['loan_status_binary'] == 0])\n",
    "print(nLate)\n",
    "print(nNoLate)\n",
    "dfLoans.head()"
   ]
  },
  {
   "cell_type": "markdown",
   "metadata": {},
   "source": [
    "# The best graded loans (A & B) has a higher percentage of loans with no default"
   ]
  },
  {
   "cell_type": "code",
   "execution_count": 9,
   "metadata": {
    "collapsed": false
   },
   "outputs": [
    {
     "data": {
      "image/png": "[encoded data removed]",
      "text/plain": [
       "<matplotlib.figure.Figure at 0x2a6087a30b8>"
      ]
     },
     "metadata": {},
     "output_type": "display_data"
    }
   ],
   "source": [
    "nNoLate = len(dfLoans[dfLoans['loan_status_binary'] == 1])\n",
    "nLate = len(dfLoans[dfLoans['loan_status_binary'] == 0])\n",
    "\n",
    "f, (ax1, ax2, ax3) = plt.subplots(1, 3, sharey=True, figsize=(9, 3))\n",
    "\n",
    "sns.barplot(x='grade', y='loan_amnt', data=dfLoans, \n",
    "            estimator=lambda x: len(x) / (nLate + nNoLate) * 100,\n",
    "            ax=ax1, order=sorted(dfLoans['grade'].unique()), palette='deep')\n",
    "sns.barplot(x='grade', y='loan_amnt', data=dfLoans[dfLoans['loan_status_binary'] == 1], \n",
    "            estimator=lambda x: len(x) / nNoLate * 100,\n",
    "            ax=ax2, order=sorted(dfLoans['grade'].unique()), palette='deep')\n",
    "sns.barplot(x='grade', y='loan_amnt', data=dfLoans[dfLoans['loan_status_binary'] == 0], \n",
    "            estimator=lambda x: len(x) / nLate * 100,\n",
    "            ax=ax3, order=sorted(dfLoans['grade'].unique()), palette='deep')\n",
    "\n",
    "ax1.set_title('Overall')\n",
    "ax2.set_title('Default')\n",
    "ax3.set_title('No Default')\n",
    "ax1.set_ylabel('Percentage')\n",
    "ax2.set_ylabel('')\n",
    "ax3.set_ylabel('')\n",
    "\n",
    "plt.tight_layout()\n",
    "plt.show()"
   ]
  },
  {
   "cell_type": "markdown",
   "metadata": {},
   "source": [
    "# The longer term loans (60 months) make up a higher percentage of the defaults than the non defaulting loans."
   ]
  },
  {
   "cell_type": "code",
   "execution_count": 10,
   "metadata": {
    "collapsed": false
   },
   "outputs": [
    {
     "data": {
      "image/png": "[encoded data removed]",
      "text/plain": [
       "<matplotlib.figure.Figure at 0x2a6088266d8>"
      ]
     },
     "metadata": {},
     "output_type": "display_data"
    }
   ],
   "source": [
    "f, (ax1, ax2, ax3) = plt.subplots(1, 3, sharey=True, figsize=(9, 3))\n",
    "\n",
    "sns.barplot(x='term', y='loan_amnt', data=dfLoans, \n",
    "            estimator=lambda x: len(x) / (nLate + nNoLate) * 100,\n",
    "            ax=ax1, order=sorted(dfLoans['term'].unique()), palette='deep')\n",
    "sns.barplot(x='term', y='loan_amnt', data=dfLoans[dfLoans['loan_status_binary'] == 1], \n",
    "            estimator=lambda x: len(x) / nNoLate * 100,\n",
    "            ax=ax2, order=sorted(dfLoans['term'].unique()), palette='deep')\n",
    "sns.barplot(x='term', y='loan_amnt', data=dfLoans[dfLoans['loan_status_binary'] == 0], \n",
    "            estimator=lambda x: len(x) / nLate * 100,\n",
    "            ax=ax3, order=sorted(dfLoans['term'].unique()), palette='deep')\n",
    "\n",
    "ax1.set_title('Overall')\n",
    "ax2.set_title('Default')\n",
    "ax3.set_title('No Default')\n",
    "ax1.set_ylabel('Percentage')\n",
    "ax2.set_ylabel('')\n",
    "ax3.set_ylabel('')\n",
    "\n",
    "plt.tight_layout()\n",
    "plt.show()"
   ]
  },
  {
   "cell_type": "markdown",
   "metadata": {},
   "source": [
    "# The defaulting loans have a higher interest rate than non defaulting loans"
   ]
  },
  {
   "cell_type": "code",
   "execution_count": 11,
   "metadata": {
    "collapsed": false
   },
   "outputs": [
    {
     "data": {
      "image/png": "[encoded data removed]",
      "text/plain": [
       "<matplotlib.figure.Figure at 0x2a63c90c7f0>"
      ]
     },
     "metadata": {},
     "output_type": "display_data"
    }
   ],
   "source": [
    "df = dfLoans.copy()\n",
    "df['loan_status_binary'] = np.where(df['loan_status_binary'] == 1, 'Default', 'Not-Default')\n",
    "ax1 = sns.boxplot(x='loan_status_binary', y='int_rate', data=df)\n",
    "ax1.set_ybound(lower=0)\n",
    "plt.show()"
   ]
  },
  {
   "cell_type": "markdown",
   "metadata": {},
   "source": [
    "# Defaulting loans still have a higher interest rate than non defaulting loans for most of the grades"
   ]
  },
  {
   "cell_type": "code",
   "execution_count": 12,
   "metadata": {
    "collapsed": false
   },
   "outputs": [
    {
     "data": {
      "image/png": "[encoded data removed]",
      "text/plain": [
       "<matplotlib.figure.Figure at 0x2a6352609e8>"
      ]
     },
     "metadata": {},
     "output_type": "display_data"
    }
   ],
   "source": [
    "ax1 = sns.boxplot(x='grade', y='int_rate', data=df, hue='loan_status_binary', \n",
    "                     order=sorted(df['grade'].unique()))\n",
    "ax1.set_ybound(lower=0)\n",
    "plt.show()"
   ]
  },
  {
   "cell_type": "markdown",
   "metadata": {},
   "source": [
    "# Defaulting loans have a higher DTI"
   ]
  },
  {
   "cell_type": "code",
   "execution_count": 25,
   "metadata": {
    "collapsed": false
   },
   "outputs": [
    {
     "data": {
      "image/png": "[encoded data removed]",
      "text/plain": [
       "<matplotlib.figure.Figure at 0x2a6088efe80>"
      ]
     },
     "metadata": {},
     "output_type": "display_data"
    }
   ],
   "source": [
    "ax1 = sns.boxplot(x='loan_status_binary', y='dti', data=df)\n",
    "ax1.set_ybound(lower=0, upper=50)\n",
    "plt.show()"
   ]
  },
  {
   "cell_type": "code",
   "execution_count": 14,
   "metadata": {
    "collapsed": false
   },
   "outputs": [
    {
     "data": {
      "text/html": [
       "<div>\n",
       "<table border=\"1\" class=\"dataframe\">\n",
       "  <thead>\n",
       "    <tr style=\"text-align: right;\">\n",
       "      <th></th>\n",
       "      <th>issue_year</th>\n",
       "      <th>Accepted Loans</th>\n",
       "      <th>Avg Interest Charged</th>\n",
       "      <th>Avg Loan Amount</th>\n",
       "      <th>Most Likely Term</th>\n",
       "      <th>Most Likely Grade</th>\n",
       "      <th>Avg EMP Length</th>\n",
       "    </tr>\n",
       "    <tr>\n",
       "      <th>issue_year</th>\n",
       "      <th></th>\n",
       "      <th></th>\n",
       "      <th></th>\n",
       "      <th></th>\n",
       "      <th></th>\n",
       "      <th></th>\n",
       "      <th></th>\n",
       "    </tr>\n",
       "  </thead>\n",
       "  <tbody>\n",
       "    <tr>\n",
       "      <th>2007</th>\n",
       "      <td>2007</td>\n",
       "      <td>603</td>\n",
       "      <td>11.825108</td>\n",
       "      <td>8254.519071</td>\n",
       "      <td>36</td>\n",
       "      <td>C</td>\n",
       "      <td>3.109453</td>\n",
       "    </tr>\n",
       "    <tr>\n",
       "      <th>2008</th>\n",
       "      <td>2008</td>\n",
       "      <td>2393</td>\n",
       "      <td>12.061964</td>\n",
       "      <td>8825.428333</td>\n",
       "      <td>36</td>\n",
       "      <td>B</td>\n",
       "      <td>4.326786</td>\n",
       "    </tr>\n",
       "    <tr>\n",
       "      <th>2009</th>\n",
       "      <td>2009</td>\n",
       "      <td>5281</td>\n",
       "      <td>12.437247</td>\n",
       "      <td>9833.033516</td>\n",
       "      <td>36</td>\n",
       "      <td>B</td>\n",
       "      <td>4.238023</td>\n",
       "    </tr>\n",
       "    <tr>\n",
       "      <th>2010</th>\n",
       "      <td>2010</td>\n",
       "      <td>12537</td>\n",
       "      <td>11.985268</td>\n",
       "      <td>10528.240408</td>\n",
       "      <td>36</td>\n",
       "      <td>B</td>\n",
       "      <td>4.884342</td>\n",
       "    </tr>\n",
       "    <tr>\n",
       "      <th>2011</th>\n",
       "      <td>2011</td>\n",
       "      <td>21721</td>\n",
       "      <td>12.223365</td>\n",
       "      <td>12047.503568</td>\n",
       "      <td>36</td>\n",
       "      <td>B</td>\n",
       "      <td>5.209060</td>\n",
       "    </tr>\n",
       "  </tbody>\n",
       "</table>\n",
       "</div>"
      ],
      "text/plain": [
       "            issue_year  Accepted Loans  Avg Interest Charged  Avg Loan Amount  \\\n",
       "issue_year                                                                      \n",
       "2007              2007             603             11.825108      8254.519071   \n",
       "2008              2008            2393             12.061964      8825.428333   \n",
       "2009              2009            5281             12.437247      9833.033516   \n",
       "2010              2010           12537             11.985268     10528.240408   \n",
       "2011              2011           21721             12.223365     12047.503568   \n",
       "\n",
       "            Most Likely Term Most Likely Grade  Avg EMP Length  \n",
       "issue_year                                                      \n",
       "2007                      36                 C        3.109453  \n",
       "2008                      36                 B        4.326786  \n",
       "2009                      36                 B        4.238023  \n",
       "2010                      36                 B        4.884342  \n",
       "2011                      36                 B        5.209060  "
      ]
     },
     "execution_count": 14,
     "metadata": {},
     "output_type": "execute_result"
    }
   ],
   "source": [
    "#Summary by Year\n",
    "#by year and counting the total amount of accepted loans and Interest Rate\n",
    "seriesCount = dfLoans['loan_amnt'].groupby(dfLoans['issue_year']).count()\n",
    "\n",
    "#by year and Average of Interest Rate\n",
    "seriesInterest = dfLoans['int_rate'].groupby(dfLoans['issue_year']).mean()\n",
    "\n",
    "#by year and Average of Loan Amount\n",
    "seriesLA = dfLoans['loan_amnt'].groupby(dfLoans['issue_year']).mean()\n",
    "\n",
    "#by year and mode of term\n",
    "seriesTerm = dfLoans['term'].groupby(dfLoans['issue_year']).agg(lambda x: x.value_counts().index[0])\n",
    "\n",
    "#by year and mode of grade\n",
    "seriesGrade = dfLoans['grade'].groupby(dfLoans['issue_year']).agg(lambda x: x.value_counts().index[0])\n",
    "\n",
    "#by year and avg of emp_length\n",
    "seriesEL = dfLoans['emp_length'].groupby(dfLoans['issue_year']).mean()\n",
    "\n",
    "#combining seriesCount and seriesTotAmt into summary Metrix data frame\n",
    "columns=['issue_year', 'Accepted Loans', 'Avg Interest Charged', 'Avg Loan Amount', 'Most Likely Term', 'Most Likely Grade', 'Avg EMP Length']\n",
    "dfSummary = pd.DataFrame({'issue_year':seriesCount.index,'Accepted Loans': seriesCount,'Avg Interest Charged':seriesInterest, \n",
    "                          'Avg Loan Amount':seriesLA, 'Most Likely Term':seriesTerm, 'Most Likely Grade':seriesGrade, 'Avg EMP Length':seriesEL})\n",
    "\n",
    "dfSummary[columns].head()"
   ]
  },
  {
   "cell_type": "code",
   "execution_count": 15,
   "metadata": {
    "collapsed": false
   },
   "outputs": [
    {
     "data": {
      "text/plain": [
       "<matplotlib.axes._subplots.AxesSubplot at 0x2a6352edb38>"
      ]
     },
     "execution_count": 15,
     "metadata": {},
     "output_type": "execute_result"
    },
    {
     "data": {
      "image/png": "[encoded data removed]",
      "text/plain": [
       "<matplotlib.figure.Figure at 0x2a6352d10b8>"
      ]
     },
     "metadata": {},
     "output_type": "display_data"
    }
   ],
   "source": [
    "#Summary Chart for Year Wise Accepted Data and Approved Loans\n",
    "sns.set_style(\"whitegrid\")\n",
    "ax = sns.barplot(\"issue_year\", y=\"Accepted Loans\", data=dfSummary)\n",
    "plt.xticks(rotation = 0)\n",
    "ax2 = ax.twinx()\n",
    "ax2.plot(ax.get_xticks(), dfSummary['Avg Interest Charged'], marker = 'o')\n",
    "ax.set_title(\"Yearly trend of Interest and Number of Loans Sanctioned \")\n",
    "ax"
   ]
  },
  {
   "cell_type": "code",
   "execution_count": 16,
   "metadata": {
    "collapsed": false
   },
   "outputs": [
    {
     "data": {
      "text/plain": [
       "<matplotlib.axes._subplots.AxesSubplot at 0x2a63528a358>"
      ]
     },
     "execution_count": 16,
     "metadata": {},
     "output_type": "execute_result"
    },
    {
     "data": {
      "image/png": "[encoded data removed]",
      "text/plain": [
       "<matplotlib.figure.Figure at 0x2a6354392e8>"
      ]
     },
     "metadata": {},
     "output_type": "display_data"
    }
   ],
   "source": [
    "#Summary Chart for Year Wise Accepted Data and Emp_Length\n",
    "sns.set_style(\"whitegrid\")\n",
    "ax = sns.barplot(\"issue_year\", y=\"Accepted Loans\", data=dfSummary)\n",
    "plt.xticks(rotation = 0)\n",
    "ax2 = ax.twinx()\n",
    "ax2.plot(ax.get_xticks(), dfSummary['Avg EMP Length'], marker = 'o')\n",
    "ax.set_title(\"Yearly trend of Interest and Number of Loans Sanctioned \")\n",
    "ax"
   ]
  },
  {
   "cell_type": "code",
   "execution_count": 17,
   "metadata": {
    "collapsed": false
   },
   "outputs": [
    {
     "data": {
      "text/plain": [
       "<matplotlib.axes._subplots.AxesSubplot at 0x2a60a2c8b38>"
      ]
     },
     "execution_count": 17,
     "metadata": {},
     "output_type": "execute_result"
    },
    {
     "data": {
      "image/png": "[encoded data removed]",
      "text/plain": [
       "<matplotlib.figure.Figure at 0x2a635443dd8>"
      ]
     },
     "metadata": {},
     "output_type": "display_data"
    }
   ],
   "source": [
    "#Summary Chart for Year Wise Accepted Data and Amt_requsted\n",
    "sns.set_style(\"whitegrid\")\n",
    "ax = sns.barplot(\"issue_year\", y=\"Accepted Loans\", data=dfSummary)\n",
    "plt.xticks(rotation = 0)\n",
    "ax2 = ax.twinx()\n",
    "ax2.plot(ax.get_xticks(), dfSummary['Avg Loan Amount'], marker = 'o')\n",
    "ax.set_title(\"Yearly trend of Interest and Number of Loans Sanctioned \")\n",
    "ax"
   ]
  },
  {
   "cell_type": "code",
   "execution_count": 18,
   "metadata": {
    "collapsed": true
   },
   "outputs": [],
   "source": [
    "df = dfLoans.copy()\n",
    "df['loan_status_binary'] = np.where(df['loan_status_binary'] == 1, 'Default', 'Not-Default')\n",
    "df1 = df[df['loan_status_binary'] == 'Not-Default']\n",
    "df2 = df[df['loan_status_binary'] == 'Default']"
   ]
  },
  {
   "cell_type": "code",
   "execution_count": 19,
   "metadata": {
    "collapsed": false
   },
   "outputs": [],
   "source": [
    "#Summary by state for Good loans\n",
    "#by year and counting the total amount of accepted loans and Interest Rate\n",
    "seriesCount = df1['loan_amnt'].groupby(df1['addr_state']).count()\n",
    "\n",
    "#by year and Average of Interest Rate\n",
    "seriesInterest = df1['int_rate'].groupby(df1['addr_state']).mean()\n",
    "\n",
    "#by year and Average of Loan Amount\n",
    "seriesLA = df1['loan_amnt'].groupby(df1['addr_state']).mean()\n",
    "\n",
    "#by year and mode of term\n",
    "seriesTerm = df1['term'].groupby(df1['addr_state']).agg(lambda x: x.value_counts().index[0])\n",
    "\n",
    "#by year and mode of grade\n",
    "seriesGrade = df1['grade'].groupby(df1['addr_state']).agg(lambda x: x.value_counts().index[0])\n",
    "\n",
    "#by year and avg of emp_length\n",
    "seriesEL = df1['emp_length'].groupby(df1['addr_state']).mean()\n",
    "\n",
    "#combining seriesCount and seriesTotAmt into summary Metrix data frame\n",
    "columns=['State', 'Accepted Loans', 'Avg Interest Charged', 'Avg Loan Amount', 'Most Likely Term', 'Most Likely Grade', 'Avg EMP Length']\n",
    "dfSummary = pd.DataFrame({'State':seriesCount.index,'Accepted Loans': seriesCount,'Avg Interest Charged':seriesInterest, \n",
    "                          'Avg Loan Amount':seriesLA, 'Most Likely Term':seriesTerm, 'Most Likely Grade':seriesGrade, 'Avg EMP Length':seriesEL})\n"
   ]
  },
  {
   "cell_type": "code",
   "execution_count": 20,
   "metadata": {
    "collapsed": false
   },
   "outputs": [
    {
     "data": {
      "application/vnd.plotly.v1+json": {
       "data": [
        {
         "autocolorscale": false,
         "colorbar": {
          "title": "Number of loans"
         },
         "colorscale": [
          [
           0,
           "rgb(242,240,247)"
          ],
          [
           0.2,
           "rgb(218,218,235)"
          ],
          [
           0.4,
           "rgb(188,189,220)"
          ],
          [
           0.6,
           "rgb(158,154,200)"
          ],
          [
           0.8,
           "rgb(117,107,177)"
          ],
          [
           1,
           "rgb(84,39,143)"
          ]
         ],
         "locationmode": "USA-states",
         "locations": [
          "AK",
          "AL",
          "AR",
          "AZ",
          "CA",
          "CO",
          "CT",
          "DC",
          "DE",
          "FL",
          "GA",
          "HI",
          "IA",
          "ID",
          "IL",
          "IN",
          "KS",
          "KY",
          "LA",
          "MA",
          "MD",
          "ME",
          "MI",
          "MN",
          "MO",
          "MS",
          "MT",
          "NC",
          "ND",
          "NE",
          "NH",
          "NJ",
          "NM",
          "NV",
          "NY",
          "OH",
          "OK",
          "OR",
          "PA",
          "RI",
          "SC",
          "SD",
          "TN",
          "TX",
          "UT",
          "VA",
          "VT",
          "WA",
          "WI",
          "WV",
          "WY"
         ],
         "marker": {
          "line": {
           "color": "rgb(255,255,255)",
           "width": 2
          }
         },
         "text": [
          "AK<br>Avg Loan Amount ($ USD): 16889.5432692<br>Number of loans: 3120<br>Most Likely Term: 36<br>Most Likely Grade: C<br>Avg EMP Length: 6.01794871795",
          "AL<br>Avg Loan Amount ($ USD): 14446.7319549<br>Number of loans: 16057<br>Most Likely Term: 36<br>Most Likely Grade: C<br>Avg EMP Length: 6.12075730211",
          "AR<br>Avg Loan Amount ($ USD): 13947.9302326<br>Number of loans: 9675<br>Most Likely Term: 36<br>Most Likely Grade: C<br>Avg EMP Length: 5.92609819121",
          "AZ<br>Avg Loan Amount ($ USD): 14176.6353433<br>Number of loans: 30116<br>Most Likely Term: 36<br>Most Likely Grade: B<br>Avg EMP Length: 5.42475760393",
          "CA<br>Avg Loan Amount ($ USD): 14786.0075413<br>Number of loans: 182727<br>Most Likely Term: 36<br>Most Likely Grade: B<br>Avg EMP Length: 5.75910511309",
          "CO<br>Avg Loan Amount ($ USD): 14831.3444444<br>Number of loans: 27000<br>Most Likely Term: 36<br>Most Likely Grade: B<br>Avg EMP Length: 5.33848148148",
          "CT<br>Avg Loan Amount ($ USD): 15012.8309675<br>Number of loans: 19866<br>Most Likely Term: 36<br>Most Likely Grade: B<br>Avg EMP Length: 5.99587234471",
          "DC<br>Avg Loan Amount ($ USD): 15346.3770295<br>Number of loans: 3326<br>Most Likely Term: 36<br>Most Likely Grade: B<br>Avg EMP Length: 4.62748045701",
          "DE<br>Avg Loan Amount ($ USD): 14431.2004375<br>Number of loans: 3657<br>Most Likely Term: 36<br>Most Likely Grade: C<br>Avg EMP Length: 5.99097621001",
          "FL<br>Avg Loan Amount ($ USD): 13926.7692844<br>Number of loans: 90319<br>Most Likely Term: 36<br>Most Likely Grade: B<br>Avg EMP Length: 5.4723258672",
          "GA<br>Avg Loan Amount ($ USD): 14917.1213513<br>Number of loans: 42447<br>Most Likely Term: 36<br>Most Likely Grade: B<br>Avg EMP Length: 5.77927768747",
          "HI<br>Avg Loan Amount ($ USD): 15341.3967611<br>Number of loans: 6422<br>Most Likely Term: 36<br>Most Likely Grade: B<br>Avg EMP Length: 6.3626596076",
          "IA<br>Avg Loan Amount ($ USD): 7656.25<br>Number of loans: 12<br>Most Likely Term: 36<br>Most Likely Grade: C<br>Avg EMP Length: 3.83333333333",
          "ID<br>Avg Loan Amount ($ USD): 14238.1731566<br>Number of loans: 1207<br>Most Likely Term: 36<br>Most Likely Grade: C<br>Avg EMP Length: 5.42502071251",
          "IL<br>Avg Loan Amount ($ USD): 15148.6630012<br>Number of loans: 51926<br>Most Likely Term: 36<br>Most Likely Grade: B<br>Avg EMP Length: 5.85113430651",
          "IN<br>Avg Loan Amount ($ USD): 14493.5193616<br>Number of loans: 20866<br>Most Likely Term: 36<br>Most Likely Grade: C<br>Avg EMP Length: 6.02822773891",
          "KS<br>Avg Loan Amount ($ USD): 14590.5755204<br>Number of loans: 11242<br>Most Likely Term: 36<br>Most Likely Grade: B<br>Avg EMP Length: 5.99190535492",
          "KY<br>Avg Loan Amount ($ USD): 14173.9543115<br>Number of loans: 12432<br>Most Likely Term: 36<br>Most Likely Grade: C<br>Avg EMP Length: 6.04777992278",
          "LA<br>Avg Loan Amount ($ USD): 14693.9131153<br>Number of loans: 15135<br>Most Likely Term: 36<br>Most Likely Grade: B<br>Avg EMP Length: 5.78956062108",
          "MA<br>Avg Loan Amount ($ USD): 15540.0119718<br>Number of loans: 29653<br>Most Likely Term: 36<br>Most Likely Grade: B<br>Avg EMP Length: 5.7576636428",
          "MD<br>Avg Loan Amount ($ USD): 15497.6357949<br>Number of loans: 30211<br>Most Likely Term: 36<br>Most Likely Grade: B<br>Avg EMP Length: 5.96147098739",
          "ME<br>Avg Loan Amount ($ USD): 14748.480444<br>Number of loans: 1892<br>Most Likely Term: 36<br>Most Likely Grade: B<br>Avg EMP Length: 5.7478858351",
          "MI<br>Avg Loan Amount ($ USD): 14042.8538596<br>Number of loans: 33721<br>Most Likely Term: 36<br>Most Likely Grade: B<br>Avg EMP Length: 5.92405326058",
          "MN<br>Avg Loan Amount ($ USD): 14279.924768<br>Number of loans: 23062<br>Most Likely Term: 36<br>Most Likely Grade: B<br>Avg EMP Length: 5.79602809817",
          "MO<br>Avg Loan Amount ($ USD): 14318.6112056<br>Number of loans: 20579<br>Most Likely Term: 36<br>Most Likely Grade: C<br>Avg EMP Length: 5.91943243112",
          "MS<br>Avg Loan Amount ($ USD): 14593.4691664<br>Number of loans: 6454<br>Most Likely Term: 36<br>Most Likely Grade: C<br>Avg EMP Length: 6.07096374341",
          "MT<br>Avg Loan Amount ($ USD): 13762.1465825<br>Number of loans: 3643<br>Most Likely Term: 36<br>Most Likely Grade: B<br>Avg EMP Length: 5.78012626956",
          "NC<br>Avg Loan Amount ($ USD): 14526.5357341<br>Number of loans: 35960<br>Most Likely Term: 36<br>Most Likely Grade: C<br>Avg EMP Length: 5.7133759733",
          "ND<br>Avg Loan Amount ($ USD): 15200.6241565<br>Number of loans: 1482<br>Most Likely Term: 36<br>Most Likely Grade: C<br>Avg EMP Length: 5.08097165992",
          "NE<br>Avg Loan Amount ($ USD): 13950.0<br>Number of loans: 3185<br>Most Likely Term: 36<br>Most Likely Grade: C<br>Avg EMP Length: 5.63390894819",
          "NH<br>Avg Loan Amount ($ USD): 14702.8588517<br>Number of loans: 6270<br>Most Likely Term: 36<br>Most Likely Grade: B<br>Avg EMP Length: 6.0",
          "NJ<br>Avg Loan Amount ($ USD): 15475.4774841<br>Number of loans: 47855<br>Most Likely Term: 36<br>Most Likely Grade: B<br>Avg EMP Length: 5.88086929265",
          "NM<br>Avg Loan Amount ($ USD): 14706.421855<br>Number of loans: 7019<br>Most Likely Term: 36<br>Most Likely Grade: B<br>Avg EMP Length: 5.8102293774",
          "NV<br>Avg Loan Amount ($ USD): 13960.2652937<br>Number of loans: 18112<br>Most Likely Term: 36<br>Most Likely Grade: B<br>Avg EMP Length: 5.55753091873",
          "NY<br>Avg Loan Amount ($ USD): 14518.4318806<br>Number of loans: 106328<br>Most Likely Term: 36<br>Most Likely Grade: B<br>Avg EMP Length: 5.78248438793",
          "OH<br>Avg Loan Amount ($ USD): 14114.2356483<br>Number of loans: 43514<br>Most Likely Term: 36<br>Most Likely Grade: B<br>Avg EMP Length: 6.0103644804",
          "OK<br>Avg Loan Amount ($ USD): 14716.5493853<br>Number of loans: 11795<br>Most Likely Term: 36<br>Most Likely Grade: C<br>Avg EMP Length: 5.75608308605",
          "OR<br>Avg Loan Amount ($ USD): 13712.8083491<br>Number of loans: 15283<br>Most Likely Term: 36<br>Most Likely Grade: B<br>Avg EMP Length: 5.5019302493",
          "PA<br>Avg Loan Amount ($ USD): 14468.565571<br>Number of loans: 44631<br>Most Likely Term: 36<br>Most Likely Grade: B<br>Avg EMP Length: 5.90925589837",
          "RI<br>Avg Loan Amount ($ USD): 13948.1652189<br>Number of loans: 5641<br>Most Likely Term: 36<br>Most Likely Grade: B<br>Avg EMP Length: 6.18826449211",
          "SC<br>Avg Loan Amount ($ USD): 14657.9554104<br>Number of loans: 15766<br>Most Likely Term: 36<br>Most Likely Grade: C<br>Avg EMP Length: 5.73912216161",
          "SD<br>Avg Loan Amount ($ USD): 13839.699694<br>Number of loans: 2614<br>Most Likely Term: 36<br>Most Likely Grade: C<br>Avg EMP Length: 5.86534047437",
          "TN<br>Avg Loan Amount ($ USD): 14651.880141<br>Number of loans: 19573<br>Most Likely Term: 36<br>Most Likely Grade: C<br>Avg EMP Length: 5.84223164563",
          "TX<br>Avg Loan Amount ($ USD): 15469.5154746<br>Number of loans: 105237<br>Most Likely Term: 36<br>Most Likely Grade: B<br>Avg EMP Length: 5.64286325152",
          "UT<br>Avg Loan Amount ($ USD): 14734.306074<br>Number of loans: 8841<br>Most Likely Term: 36<br>Most Likely Grade: C<br>Avg EMP Length: 5.72570976134",
          "VA<br>Avg Loan Amount ($ USD): 15696.6802736<br>Number of loans: 36991<br>Most Likely Term: 36<br>Most Likely Grade: B<br>Avg EMP Length: 5.84152902057",
          "VT<br>Avg Loan Amount ($ USD): 13752.2540217<br>Number of loans: 2673<br>Most Likely Term: 36<br>Most Likely Grade: B<br>Avg EMP Length: 6.08978675645",
          "WA<br>Avg Loan Amount ($ USD): 14928.7895532<br>Number of loans: 27147<br>Most Likely Term: 36<br>Most Likely Grade: C<br>Avg EMP Length: 5.70924964084",
          "WI<br>Avg Loan Amount ($ USD): 14154.3843667<br>Number of loans: 17015<br>Most Likely Term: 36<br>Most Likely Grade: B<br>Avg EMP Length: 6.05060240964",
          "WV<br>Avg Loan Amount ($ USD): 14566.0816974<br>Number of loans: 5043<br>Most Likely Term: 36<br>Most Likely Grade: B<br>Avg EMP Length: 5.97184215745",
          "WY<br>Avg Loan Amount ($ USD): 15290.0914108<br>Number of loans: 2899<br>Most Likely Term: 36<br>Most Likely Grade: B<br>Avg EMP Length: 5.89479130735"
         ],
         "type": "choropleth",
         "z": [
          "3120",
          "16057",
          "9675",
          "30116",
          "182727",
          "27000",
          "19866",
          "3326",
          "3657",
          "90319",
          "42447",
          "6422",
          "12",
          "1207",
          "51926",
          "20866",
          "11242",
          "12432",
          "15135",
          "29653",
          "30211",
          "1892",
          "33721",
          "23062",
          "20579",
          "6454",
          "3643",
          "35960",
          "1482",
          "3185",
          "6270",
          "47855",
          "7019",
          "18112",
          "106328",
          "43514",
          "11795",
          "15283",
          "44631",
          "5641",
          "15766",
          "2614",
          "19573",
          "105237",
          "8841",
          "36991",
          "2673",
          "27147",
          "17015",
          "5043",
          "2899"
         ]
        }
       ],
       "layout": {
        "geo": {
         "lakecolor": "rgb(255, 255, 255)",
         "projection": {
          "type": "albers usa"
         },
         "scope": "usa",
         "showlakes": true
        },
        "title": "Total number of good-loans by state <br> (Hover over state for other metrics)"
       }
      },
      "text/html": [
       "<div id=\"bba49f27-f57d-4dd6-820b-badc4536e318\" style=\"height: 525px; width: 100%;\" class=\"plotly-graph-div\"></div><script type=\"text/javascript\">require([\"plotly\"], function(Plotly) { window.PLOTLYENV=window.PLOTLYENV || {};window.PLOTLYENV.BASE_URL=\"https://plot.ly\";Plotly.newPlot(\"bba49f27-f57d-4dd6-820b-badc4536e318\", [{\"type\": \"choropleth\", \"colorscale\": [[0.0, \"rgb(242,240,247)\"], [0.2, \"rgb(218,218,235)\"], [0.4, \"rgb(188,189,220)\"], [0.6, \"rgb(158,154,200)\"], [0.8, \"rgb(117,107,177)\"], [1.0, \"rgb(84,39,143)\"]], \"autocolorscale\": false, \"locations\": [\"AK\", \"AL\", \"AR\", \"AZ\", \"CA\", \"CO\", \"CT\", \"DC\", \"DE\", \"FL\", \"GA\", \"HI\", \"IA\", \"ID\", \"IL\", \"IN\", \"KS\", \"KY\", \"LA\", \"MA\", \"MD\", \"ME\", \"MI\", \"MN\", \"MO\", \"MS\", \"MT\", \"NC\", \"ND\", \"NE\", \"NH\", \"NJ\", \"NM\", \"NV\", \"NY\", \"OH\", \"OK\", \"OR\", \"PA\", \"RI\", \"SC\", \"SD\", \"TN\", \"TX\", \"UT\", \"VA\", \"VT\", \"WA\", \"WI\", \"WV\", \"WY\"], \"z\": [\"3120\", \"16057\", \"9675\", \"30116\", \"182727\", \"27000\", \"19866\", \"3326\", \"3657\", \"90319\", \"42447\", \"6422\", \"12\", \"1207\", \"51926\", \"20866\", \"11242\", \"12432\", \"15135\", \"29653\", \"30211\", \"1892\", \"33721\", \"23062\", \"20579\", \"6454\", \"3643\", \"35960\", \"1482\", \"3185\", \"6270\", \"47855\", \"7019\", \"18112\", \"106328\", \"43514\", \"11795\", \"15283\", \"44631\", \"5641\", \"15766\", \"2614\", \"19573\", \"105237\", \"8841\", \"36991\", \"2673\", \"27147\", \"17015\", \"5043\", \"2899\"], \"locationmode\": \"USA-states\", \"text\": [\"AK<br>Avg Loan Amount ($ USD): 16889.5432692<br>Number of loans: 3120<br>Most Likely Term: 36<br>Most Likely Grade: C<br>Avg EMP Length: 6.01794871795\", \"AL<br>Avg Loan Amount ($ USD): 14446.7319549<br>Number of loans: 16057<br>Most Likely Term: 36<br>Most Likely Grade: C<br>Avg EMP Length: 6.12075730211\", \"AR<br>Avg Loan Amount ($ USD): 13947.9302326<br>Number of loans: 9675<br>Most Likely Term: 36<br>Most Likely Grade: C<br>Avg EMP Length: 5.92609819121\", \"AZ<br>Avg Loan Amount ($ USD): 14176.6353433<br>Number of loans: 30116<br>Most Likely Term: 36<br>Most Likely Grade: B<br>Avg EMP Length: 5.42475760393\", \"CA<br>Avg Loan Amount ($ USD): 14786.0075413<br>Number of loans: 182727<br>Most Likely Term: 36<br>Most Likely Grade: B<br>Avg EMP Length: 5.75910511309\", \"CO<br>Avg Loan Amount ($ USD): 14831.3444444<br>Number of loans: 27000<br>Most Likely Term: 36<br>Most Likely Grade: B<br>Avg EMP Length: 5.33848148148\", \"CT<br>Avg Loan Amount ($ USD): 15012.8309675<br>Number of loans: 19866<br>Most Likely Term: 36<br>Most Likely Grade: B<br>Avg EMP Length: 5.99587234471\", \"DC<br>Avg Loan Amount ($ USD): 15346.3770295<br>Number of loans: 3326<br>Most Likely Term: 36<br>Most Likely Grade: B<br>Avg EMP Length: 4.62748045701\", \"DE<br>Avg Loan Amount ($ USD): 14431.2004375<br>Number of loans: 3657<br>Most Likely Term: 36<br>Most Likely Grade: C<br>Avg EMP Length: 5.99097621001\", \"FL<br>Avg Loan Amount ($ USD): 13926.7692844<br>Number of loans: 90319<br>Most Likely Term: 36<br>Most Likely Grade: B<br>Avg EMP Length: 5.4723258672\", \"GA<br>Avg Loan Amount ($ USD): 14917.1213513<br>Number of loans: 42447<br>Most Likely Term: 36<br>Most Likely Grade: B<br>Avg EMP Length: 5.77927768747\", \"HI<br>Avg Loan Amount ($ USD): 15341.3967611<br>Number of loans: 6422<br>Most Likely Term: 36<br>Most Likely Grade: B<br>Avg EMP Length: 6.3626596076\", \"IA<br>Avg Loan Amount ($ USD): 7656.25<br>Number of loans: 12<br>Most Likely Term: 36<br>Most Likely Grade: C<br>Avg EMP Length: 3.83333333333\", \"ID<br>Avg Loan Amount ($ USD): 14238.1731566<br>Number of loans: 1207<br>Most Likely Term: 36<br>Most Likely Grade: C<br>Avg EMP Length: 5.42502071251\", \"IL<br>Avg Loan Amount ($ USD): 15148.6630012<br>Number of loans: 51926<br>Most Likely Term: 36<br>Most Likely Grade: B<br>Avg EMP Length: 5.85113430651\", \"IN<br>Avg Loan Amount ($ USD): 14493.5193616<br>Number of loans: 20866<br>Most Likely Term: 36<br>Most Likely Grade: C<br>Avg EMP Length: 6.02822773891\", \"KS<br>Avg Loan Amount ($ USD): 14590.5755204<br>Number of loans: 11242<br>Most Likely Term: 36<br>Most Likely Grade: B<br>Avg EMP Length: 5.99190535492\", \"KY<br>Avg Loan Amount ($ USD): 14173.9543115<br>Number of loans: 12432<br>Most Likely Term: 36<br>Most Likely Grade: C<br>Avg EMP Length: 6.04777992278\", \"LA<br>Avg Loan Amount ($ USD): 14693.9131153<br>Number of loans: 15135<br>Most Likely Term: 36<br>Most Likely Grade: B<br>Avg EMP Length: 5.78956062108\", \"MA<br>Avg Loan Amount ($ USD): 15540.0119718<br>Number of loans: 29653<br>Most Likely Term: 36<br>Most Likely Grade: B<br>Avg EMP Length: 5.7576636428\", \"MD<br>Avg Loan Amount ($ USD): 15497.6357949<br>Number of loans: 30211<br>Most Likely Term: 36<br>Most Likely Grade: B<br>Avg EMP Length: 5.96147098739\", \"ME<br>Avg Loan Amount ($ USD): 14748.480444<br>Number of loans: 1892<br>Most Likely Term: 36<br>Most Likely Grade: B<br>Avg EMP Length: 5.7478858351\", \"MI<br>Avg Loan Amount ($ USD): 14042.8538596<br>Number of loans: 33721<br>Most Likely Term: 36<br>Most Likely Grade: B<br>Avg EMP Length: 5.92405326058\", \"MN<br>Avg Loan Amount ($ USD): 14279.924768<br>Number of loans: 23062<br>Most Likely Term: 36<br>Most Likely Grade: B<br>Avg EMP Length: 5.79602809817\", \"MO<br>Avg Loan Amount ($ USD): 14318.6112056<br>Number of loans: 20579<br>Most Likely Term: 36<br>Most Likely Grade: C<br>Avg EMP Length: 5.91943243112\", \"MS<br>Avg Loan Amount ($ USD): 14593.4691664<br>Number of loans: 6454<br>Most Likely Term: 36<br>Most Likely Grade: C<br>Avg EMP Length: 6.07096374341\", \"MT<br>Avg Loan Amount ($ USD): 13762.1465825<br>Number of loans: 3643<br>Most Likely Term: 36<br>Most Likely Grade: B<br>Avg EMP Length: 5.78012626956\", \"NC<br>Avg Loan Amount ($ USD): 14526.5357341<br>Number of loans: 35960<br>Most Likely Term: 36<br>Most Likely Grade: C<br>Avg EMP Length: 5.7133759733\", \"ND<br>Avg Loan Amount ($ USD): 15200.6241565<br>Number of loans: 1482<br>Most Likely Term: 36<br>Most Likely Grade: C<br>Avg EMP Length: 5.08097165992\", \"NE<br>Avg Loan Amount ($ USD): 13950.0<br>Number of loans: 3185<br>Most Likely Term: 36<br>Most Likely Grade: C<br>Avg EMP Length: 5.63390894819\", \"NH<br>Avg Loan Amount ($ USD): 14702.8588517<br>Number of loans: 6270<br>Most Likely Term: 36<br>Most Likely Grade: B<br>Avg EMP Length: 6.0\", \"NJ<br>Avg Loan Amount ($ USD): 15475.4774841<br>Number of loans: 47855<br>Most Likely Term: 36<br>Most Likely Grade: B<br>Avg EMP Length: 5.88086929265\", \"NM<br>Avg Loan Amount ($ USD): 14706.421855<br>Number of loans: 7019<br>Most Likely Term: 36<br>Most Likely Grade: B<br>Avg EMP Length: 5.8102293774\", \"NV<br>Avg Loan Amount ($ USD): 13960.2652937<br>Number of loans: 18112<br>Most Likely Term: 36<br>Most Likely Grade: B<br>Avg EMP Length: 5.55753091873\", \"NY<br>Avg Loan Amount ($ USD): 14518.4318806<br>Number of loans: 106328<br>Most Likely Term: 36<br>Most Likely Grade: B<br>Avg EMP Length: 5.78248438793\", \"OH<br>Avg Loan Amount ($ USD): 14114.2356483<br>Number of loans: 43514<br>Most Likely Term: 36<br>Most Likely Grade: B<br>Avg EMP Length: 6.0103644804\", \"OK<br>Avg Loan Amount ($ USD): 14716.5493853<br>Number of loans: 11795<br>Most Likely Term: 36<br>Most Likely Grade: C<br>Avg EMP Length: 5.75608308605\", \"OR<br>Avg Loan Amount ($ USD): 13712.8083491<br>Number of loans: 15283<br>Most Likely Term: 36<br>Most Likely Grade: B<br>Avg EMP Length: 5.5019302493\", \"PA<br>Avg Loan Amount ($ USD): 14468.565571<br>Number of loans: 44631<br>Most Likely Term: 36<br>Most Likely Grade: B<br>Avg EMP Length: 5.90925589837\", \"RI<br>Avg Loan Amount ($ USD): 13948.1652189<br>Number of loans: 5641<br>Most Likely Term: 36<br>Most Likely Grade: B<br>Avg EMP Length: 6.18826449211\", \"SC<br>Avg Loan Amount ($ USD): 14657.9554104<br>Number of loans: 15766<br>Most Likely Term: 36<br>Most Likely Grade: C<br>Avg EMP Length: 5.73912216161\", \"SD<br>Avg Loan Amount ($ USD): 13839.699694<br>Number of loans: 2614<br>Most Likely Term: 36<br>Most Likely Grade: C<br>Avg EMP Length: 5.86534047437\", \"TN<br>Avg Loan Amount ($ USD): 14651.880141<br>Number of loans: 19573<br>Most Likely Term: 36<br>Most Likely Grade: C<br>Avg EMP Length: 5.84223164563\", \"TX<br>Avg Loan Amount ($ USD): 15469.5154746<br>Number of loans: 105237<br>Most Likely Term: 36<br>Most Likely Grade: B<br>Avg EMP Length: 5.64286325152\", \"UT<br>Avg Loan Amount ($ USD): 14734.306074<br>Number of loans: 8841<br>Most Likely Term: 36<br>Most Likely Grade: C<br>Avg EMP Length: 5.72570976134\", \"VA<br>Avg Loan Amount ($ USD): 15696.6802736<br>Number of loans: 36991<br>Most Likely Term: 36<br>Most Likely Grade: B<br>Avg EMP Length: 5.84152902057\", \"VT<br>Avg Loan Amount ($ USD): 13752.2540217<br>Number of loans: 2673<br>Most Likely Term: 36<br>Most Likely Grade: B<br>Avg EMP Length: 6.08978675645\", \"WA<br>Avg Loan Amount ($ USD): 14928.7895532<br>Number of loans: 27147<br>Most Likely Term: 36<br>Most Likely Grade: C<br>Avg EMP Length: 5.70924964084\", \"WI<br>Avg Loan Amount ($ USD): 14154.3843667<br>Number of loans: 17015<br>Most Likely Term: 36<br>Most Likely Grade: B<br>Avg EMP Length: 6.05060240964\", \"WV<br>Avg Loan Amount ($ USD): 14566.0816974<br>Number of loans: 5043<br>Most Likely Term: 36<br>Most Likely Grade: B<br>Avg EMP Length: 5.97184215745\", \"WY<br>Avg Loan Amount ($ USD): 15290.0914108<br>Number of loans: 2899<br>Most Likely Term: 36<br>Most Likely Grade: B<br>Avg EMP Length: 5.89479130735\"], \"marker\": {\"line\": {\"color\": \"rgb(255,255,255)\", \"width\": 2}}, \"colorbar\": {\"title\": \"Number of loans\"}}], {\"title\": \"Total number of good-loans by state <br> (Hover over state for other metrics)\", \"geo\": {\"scope\": \"usa\", \"projection\": {\"type\": \"albers usa\"}, \"showlakes\": true, \"lakecolor\": \"rgb(255, 255, 255)\"}}, {\"showLink\": true, \"linkText\": \"Export to plot.ly\"})});</script>"
      ],
      "text/vnd.plotly.v1+html": [
       "<div id=\"bba49f27-f57d-4dd6-820b-badc4536e318\" style=\"height: 525px; width: 100%;\" class=\"plotly-graph-div\"></div><script type=\"text/javascript\">require([\"plotly\"], function(Plotly) { window.PLOTLYENV=window.PLOTLYENV || {};window.PLOTLYENV.BASE_URL=\"https://plot.ly\";Plotly.newPlot(\"bba49f27-f57d-4dd6-820b-badc4536e318\", [{\"type\": \"choropleth\", \"colorscale\": [[0.0, \"rgb(242,240,247)\"], [0.2, \"rgb(218,218,235)\"], [0.4, \"rgb(188,189,220)\"], [0.6, \"rgb(158,154,200)\"], [0.8, \"rgb(117,107,177)\"], [1.0, \"rgb(84,39,143)\"]], \"autocolorscale\": false, \"locations\": [\"AK\", \"AL\", \"AR\", \"AZ\", \"CA\", \"CO\", \"CT\", \"DC\", \"DE\", \"FL\", \"GA\", \"HI\", \"IA\", \"ID\", \"IL\", \"IN\", \"KS\", \"KY\", \"LA\", \"MA\", \"MD\", \"ME\", \"MI\", \"MN\", \"MO\", \"MS\", \"MT\", \"NC\", \"ND\", \"NE\", \"NH\", \"NJ\", \"NM\", \"NV\", \"NY\", \"OH\", \"OK\", \"OR\", \"PA\", \"RI\", \"SC\", \"SD\", \"TN\", \"TX\", \"UT\", \"VA\", \"VT\", \"WA\", \"WI\", \"WV\", \"WY\"], \"z\": [\"3120\", \"16057\", \"9675\", \"30116\", \"182727\", \"27000\", \"19866\", \"3326\", \"3657\", \"90319\", \"42447\", \"6422\", \"12\", \"1207\", \"51926\", \"20866\", \"11242\", \"12432\", \"15135\", \"29653\", \"30211\", \"1892\", \"33721\", \"23062\", \"20579\", \"6454\", \"3643\", \"35960\", \"1482\", \"3185\", \"6270\", \"47855\", \"7019\", \"18112\", \"106328\", \"43514\", \"11795\", \"15283\", \"44631\", \"5641\", \"15766\", \"2614\", \"19573\", \"105237\", \"8841\", \"36991\", \"2673\", \"27147\", \"17015\", \"5043\", \"2899\"], \"locationmode\": \"USA-states\", \"text\": [\"AK<br>Avg Loan Amount ($ USD): 16889.5432692<br>Number of loans: 3120<br>Most Likely Term: 36<br>Most Likely Grade: C<br>Avg EMP Length: 6.01794871795\", \"AL<br>Avg Loan Amount ($ USD): 14446.7319549<br>Number of loans: 16057<br>Most Likely Term: 36<br>Most Likely Grade: C<br>Avg EMP Length: 6.12075730211\", \"AR<br>Avg Loan Amount ($ USD): 13947.9302326<br>Number of loans: 9675<br>Most Likely Term: 36<br>Most Likely Grade: C<br>Avg EMP Length: 5.92609819121\", \"AZ<br>Avg Loan Amount ($ USD): 14176.6353433<br>Number of loans: 30116<br>Most Likely Term: 36<br>Most Likely Grade: B<br>Avg EMP Length: 5.42475760393\", \"CA<br>Avg Loan Amount ($ USD): 14786.0075413<br>Number of loans: 182727<br>Most Likely Term: 36<br>Most Likely Grade: B<br>Avg EMP Length: 5.75910511309\", \"CO<br>Avg Loan Amount ($ USD): 14831.3444444<br>Number of loans: 27000<br>Most Likely Term: 36<br>Most Likely Grade: B<br>Avg EMP Length: 5.33848148148\", \"CT<br>Avg Loan Amount ($ USD): 15012.8309675<br>Number of loans: 19866<br>Most Likely Term: 36<br>Most Likely Grade: B<br>Avg EMP Length: 5.99587234471\", \"DC<br>Avg Loan Amount ($ USD): 15346.3770295<br>Number of loans: 3326<br>Most Likely Term: 36<br>Most Likely Grade: B<br>Avg EMP Length: 4.62748045701\", \"DE<br>Avg Loan Amount ($ USD): 14431.2004375<br>Number of loans: 3657<br>Most Likely Term: 36<br>Most Likely Grade: C<br>Avg EMP Length: 5.99097621001\", \"FL<br>Avg Loan Amount ($ USD): 13926.7692844<br>Number of loans: 90319<br>Most Likely Term: 36<br>Most Likely Grade: B<br>Avg EMP Length: 5.4723258672\", \"GA<br>Avg Loan Amount ($ USD): 14917.1213513<br>Number of loans: 42447<br>Most Likely Term: 36<br>Most Likely Grade: B<br>Avg EMP Length: 5.77927768747\", \"HI<br>Avg Loan Amount ($ USD): 15341.3967611<br>Number of loans: 6422<br>Most Likely Term: 36<br>Most Likely Grade: B<br>Avg EMP Length: 6.3626596076\", \"IA<br>Avg Loan Amount ($ USD): 7656.25<br>Number of loans: 12<br>Most Likely Term: 36<br>Most Likely Grade: C<br>Avg EMP Length: 3.83333333333\", \"ID<br>Avg Loan Amount ($ USD): 14238.1731566<br>Number of loans: 1207<br>Most Likely Term: 36<br>Most Likely Grade: C<br>Avg EMP Length: 5.42502071251\", \"IL<br>Avg Loan Amount ($ USD): 15148.6630012<br>Number of loans: 51926<br>Most Likely Term: 36<br>Most Likely Grade: B<br>Avg EMP Length: 5.85113430651\", \"IN<br>Avg Loan Amount ($ USD): 14493.5193616<br>Number of loans: 20866<br>Most Likely Term: 36<br>Most Likely Grade: C<br>Avg EMP Length: 6.02822773891\", \"KS<br>Avg Loan Amount ($ USD): 14590.5755204<br>Number of loans: 11242<br>Most Likely Term: 36<br>Most Likely Grade: B<br>Avg EMP Length: 5.99190535492\", \"KY<br>Avg Loan Amount ($ USD): 14173.9543115<br>Number of loans: 12432<br>Most Likely Term: 36<br>Most Likely Grade: C<br>Avg EMP Length: 6.04777992278\", \"LA<br>Avg Loan Amount ($ USD): 14693.9131153<br>Number of loans: 15135<br>Most Likely Term: 36<br>Most Likely Grade: B<br>Avg EMP Length: 5.78956062108\", \"MA<br>Avg Loan Amount ($ USD): 15540.0119718<br>Number of loans: 29653<br>Most Likely Term: 36<br>Most Likely Grade: B<br>Avg EMP Length: 5.7576636428\", \"MD<br>Avg Loan Amount ($ USD): 15497.6357949<br>Number of loans: 30211<br>Most Likely Term: 36<br>Most Likely Grade: B<br>Avg EMP Length: 5.96147098739\", \"ME<br>Avg Loan Amount ($ USD): 14748.480444<br>Number of loans: 1892<br>Most Likely Term: 36<br>Most Likely Grade: B<br>Avg EMP Length: 5.7478858351\", \"MI<br>Avg Loan Amount ($ USD): 14042.8538596<br>Number of loans: 33721<br>Most Likely Term: 36<br>Most Likely Grade: B<br>Avg EMP Length: 5.92405326058\", \"MN<br>Avg Loan Amount ($ USD): 14279.924768<br>Number of loans: 23062<br>Most Likely Term: 36<br>Most Likely Grade: B<br>Avg EMP Length: 5.79602809817\", \"MO<br>Avg Loan Amount ($ USD): 14318.6112056<br>Number of loans: 20579<br>Most Likely Term: 36<br>Most Likely Grade: C<br>Avg EMP Length: 5.91943243112\", \"MS<br>Avg Loan Amount ($ USD): 14593.4691664<br>Number of loans: 6454<br>Most Likely Term: 36<br>Most Likely Grade: C<br>Avg EMP Length: 6.07096374341\", \"MT<br>Avg Loan Amount ($ USD): 13762.1465825<br>Number of loans: 3643<br>Most Likely Term: 36<br>Most Likely Grade: B<br>Avg EMP Length: 5.78012626956\", \"NC<br>Avg Loan Amount ($ USD): 14526.5357341<br>Number of loans: 35960<br>Most Likely Term: 36<br>Most Likely Grade: C<br>Avg EMP Length: 5.7133759733\", \"ND<br>Avg Loan Amount ($ USD): 15200.6241565<br>Number of loans: 1482<br>Most Likely Term: 36<br>Most Likely Grade: C<br>Avg EMP Length: 5.08097165992\", \"NE<br>Avg Loan Amount ($ USD): 13950.0<br>Number of loans: 3185<br>Most Likely Term: 36<br>Most Likely Grade: C<br>Avg EMP Length: 5.63390894819\", \"NH<br>Avg Loan Amount ($ USD): 14702.8588517<br>Number of loans: 6270<br>Most Likely Term: 36<br>Most Likely Grade: B<br>Avg EMP Length: 6.0\", \"NJ<br>Avg Loan Amount ($ USD): 15475.4774841<br>Number of loans: 47855<br>Most Likely Term: 36<br>Most Likely Grade: B<br>Avg EMP Length: 5.88086929265\", \"NM<br>Avg Loan Amount ($ USD): 14706.421855<br>Number of loans: 7019<br>Most Likely Term: 36<br>Most Likely Grade: B<br>Avg EMP Length: 5.8102293774\", \"NV<br>Avg Loan Amount ($ USD): 13960.2652937<br>Number of loans: 18112<br>Most Likely Term: 36<br>Most Likely Grade: B<br>Avg EMP Length: 5.55753091873\", \"NY<br>Avg Loan Amount ($ USD): 14518.4318806<br>Number of loans: 106328<br>Most Likely Term: 36<br>Most Likely Grade: B<br>Avg EMP Length: 5.78248438793\", \"OH<br>Avg Loan Amount ($ USD): 14114.2356483<br>Number of loans: 43514<br>Most Likely Term: 36<br>Most Likely Grade: B<br>Avg EMP Length: 6.0103644804\", \"OK<br>Avg Loan Amount ($ USD): 14716.5493853<br>Number of loans: 11795<br>Most Likely Term: 36<br>Most Likely Grade: C<br>Avg EMP Length: 5.75608308605\", \"OR<br>Avg Loan Amount ($ USD): 13712.8083491<br>Number of loans: 15283<br>Most Likely Term: 36<br>Most Likely Grade: B<br>Avg EMP Length: 5.5019302493\", \"PA<br>Avg Loan Amount ($ USD): 14468.565571<br>Number of loans: 44631<br>Most Likely Term: 36<br>Most Likely Grade: B<br>Avg EMP Length: 5.90925589837\", \"RI<br>Avg Loan Amount ($ USD): 13948.1652189<br>Number of loans: 5641<br>Most Likely Term: 36<br>Most Likely Grade: B<br>Avg EMP Length: 6.18826449211\", \"SC<br>Avg Loan Amount ($ USD): 14657.9554104<br>Number of loans: 15766<br>Most Likely Term: 36<br>Most Likely Grade: C<br>Avg EMP Length: 5.73912216161\", \"SD<br>Avg Loan Amount ($ USD): 13839.699694<br>Number of loans: 2614<br>Most Likely Term: 36<br>Most Likely Grade: C<br>Avg EMP Length: 5.86534047437\", \"TN<br>Avg Loan Amount ($ USD): 14651.880141<br>Number of loans: 19573<br>Most Likely Term: 36<br>Most Likely Grade: C<br>Avg EMP Length: 5.84223164563\", \"TX<br>Avg Loan Amount ($ USD): 15469.5154746<br>Number of loans: 105237<br>Most Likely Term: 36<br>Most Likely Grade: B<br>Avg EMP Length: 5.64286325152\", \"UT<br>Avg Loan Amount ($ USD): 14734.306074<br>Number of loans: 8841<br>Most Likely Term: 36<br>Most Likely Grade: C<br>Avg EMP Length: 5.72570976134\", \"VA<br>Avg Loan Amount ($ USD): 15696.6802736<br>Number of loans: 36991<br>Most Likely Term: 36<br>Most Likely Grade: B<br>Avg EMP Length: 5.84152902057\", \"VT<br>Avg Loan Amount ($ USD): 13752.2540217<br>Number of loans: 2673<br>Most Likely Term: 36<br>Most Likely Grade: B<br>Avg EMP Length: 6.08978675645\", \"WA<br>Avg Loan Amount ($ USD): 14928.7895532<br>Number of loans: 27147<br>Most Likely Term: 36<br>Most Likely Grade: C<br>Avg EMP Length: 5.70924964084\", \"WI<br>Avg Loan Amount ($ USD): 14154.3843667<br>Number of loans: 17015<br>Most Likely Term: 36<br>Most Likely Grade: B<br>Avg EMP Length: 6.05060240964\", \"WV<br>Avg Loan Amount ($ USD): 14566.0816974<br>Number of loans: 5043<br>Most Likely Term: 36<br>Most Likely Grade: B<br>Avg EMP Length: 5.97184215745\", \"WY<br>Avg Loan Amount ($ USD): 15290.0914108<br>Number of loans: 2899<br>Most Likely Term: 36<br>Most Likely Grade: B<br>Avg EMP Length: 5.89479130735\"], \"marker\": {\"line\": {\"color\": \"rgb(255,255,255)\", \"width\": 2}}, \"colorbar\": {\"title\": \"Number of loans\"}}], {\"title\": \"Total number of good-loans by state <br> (Hover over state for other metrics)\", \"geo\": {\"scope\": \"usa\", \"projection\": {\"type\": \"albers usa\"}, \"showlakes\": true, \"lakecolor\": \"rgb(255, 255, 255)\"}}, {\"showLink\": true, \"linkText\": \"Export to plot.ly\"})});</script>"
      ]
     },
     "metadata": {},
     "output_type": "display_data"
    }
   ],
   "source": [
    "for col in dfSummary.columns:\n",
    "    dfSummary[col] = dfSummary[col].astype(str)\n",
    "\n",
    "scl = [[0.0, 'rgb(242,240,247)'],[0.2, 'rgb(218,218,235)'],[0.4, 'rgb(188,189,220)'],\\\n",
    "        [0.6, 'rgb(158,154,200)'],[0.8, 'rgb(117,107,177)'],[1.0, 'rgb(84,39,143)']]    \n",
    "\n",
    "dfSummary['text'] = dfSummary['State'] + '<br>' +\\\n",
    "    'Avg Loan Amount ($ USD): '+dfSummary['Avg Loan Amount']+'<br>'+\\\n",
    "    'Number of loans: '+dfSummary['Accepted Loans']+'<br>'+\\\n",
    "    'Most Likely Term: '+dfSummary['Most Likely Term']+'<br>'+\\\n",
    "    'Most Likely Grade: '+dfSummary['Most Likely Grade']+'<br>'+\\\n",
    "    'Avg EMP Length: '+dfSummary['Avg EMP Length']\n",
    "\n",
    "data = [ dict(\n",
    "    type='choropleth',\n",
    "    colorscale = scl,\n",
    "    autocolorscale = False,\n",
    "    locations = dfSummary['State'],\n",
    "    z = dfSummary['Accepted Loans'], \n",
    "    locationmode = 'USA-states',\n",
    "    text = dfSummary['text'],\n",
    "    marker = dict(\n",
    "        line = dict (\n",
    "            color = 'rgb(255,255,255)',\n",
    "            width = 2\n",
    "        ) ),\n",
    "    colorbar = dict(\n",
    "        title = \"Number of loans\")\n",
    "    ) ]\n",
    "\n",
    "layout = dict(\n",
    "    title = 'Total number of good-loans by state <br> (Hover over state for other metrics)',\n",
    "    geo = dict(\n",
    "        scope='usa',\n",
    "        projection=dict( type='albers usa' ),\n",
    "        showlakes = True,\n",
    "        lakecolor = 'rgb(255, 255, 255)'),\n",
    "         )\n",
    "\n",
    "fig = dict( data=data, layout=layout )\n",
    "iplot( fig, filename='d3-cloropleth-map')"
   ]
  },
  {
   "cell_type": "code",
   "execution_count": 21,
   "metadata": {
    "collapsed": true
   },
   "outputs": [],
   "source": [
    "#Summary by state for Default loans\n",
    "#by year and counting the total amount of accepted loans and Interest Rate\n",
    "seriesCount = df2['loan_amnt'].groupby(df2['addr_state']).count()\n",
    "\n",
    "#by year and Average of Interest Rate\n",
    "seriesInterest = df2['int_rate'].groupby(df2['addr_state']).mean()\n",
    "\n",
    "#by year and Average of Loan Amount\n",
    "seriesLA = df2['loan_amnt'].groupby(df2['addr_state']).mean()\n",
    "\n",
    "#by year and mode of term\n",
    "seriesTerm = df2['term'].groupby(df2['addr_state']).agg(lambda x: x.value_counts().index[0])\n",
    "\n",
    "#by year and mode of grade\n",
    "seriesGrade = df2['grade'].groupby(df2['addr_state']).agg(lambda x: x.value_counts().index[0])\n",
    "\n",
    "#by year and avg of emp_length\n",
    "seriesEL = df2['emp_length'].groupby(df2['addr_state']).mean()\n",
    "\n",
    "#combining seriesCount and seriesTotAmt into summary Metrix data frame\n",
    "columns=['State', 'Accepted Loans', 'Avg Interest Charged', 'Avg Loan Amount', 'Most Likely Term', 'Most Likely Grade', 'Avg EMP Length']\n",
    "dfSummary = pd.DataFrame({'State':seriesCount.index,'Accepted Loans': seriesCount,'Avg Interest Charged':seriesInterest, \n",
    "                          'Avg Loan Amount':seriesLA, 'Most Likely Term':seriesTerm, 'Most Likely Grade':seriesGrade, 'Avg EMP Length':seriesEL})\n"
   ]
  },
  {
   "cell_type": "code",
   "execution_count": 22,
   "metadata": {
    "collapsed": false
   },
   "outputs": [
    {
     "data": {
      "application/vnd.plotly.v1+json": {
       "data": [
        {
         "autocolorscale": false,
         "colorbar": {
          "title": "Number of loans"
         },
         "colorscale": [
          [
           0,
           "rgb(242,240,247)"
          ],
          [
           0.2,
           "rgb(218,218,235)"
          ],
          [
           0.4,
           "rgb(188,189,220)"
          ],
          [
           0.6,
           "rgb(158,154,200)"
          ],
          [
           0.8,
           "rgb(117,107,177)"
          ],
          [
           1,
           "rgb(84,39,143)"
          ]
         ],
         "locationmode": "USA-states",
         "locations": [
          "AK",
          "AL",
          "AR",
          "AZ",
          "CA",
          "CO",
          "CT",
          "DC",
          "DE",
          "FL",
          "GA",
          "HI",
          "IA",
          "ID",
          "IL",
          "IN",
          "KS",
          "KY",
          "LA",
          "MA",
          "MD",
          "ME",
          "MI",
          "MN",
          "MO",
          "MS",
          "MT",
          "NC",
          "ND",
          "NE",
          "NH",
          "NJ",
          "NM",
          "NV",
          "NY",
          "OH",
          "OK",
          "OR",
          "PA",
          "RI",
          "SC",
          "SD",
          "TN",
          "TX",
          "UT",
          "VA",
          "VT",
          "WA",
          "WI",
          "WV",
          "WY"
         ],
         "marker": {
          "line": {
           "color": "rgb(255,255,255)",
           "width": 2
          }
         },
         "text": [
          "AK<br>Avg Loan Amount ($ USD): 17190.1098901<br>Number of loans: 91<br>Most Likely Term: 36<br>Most Likely Grade: C<br>Avg EMP Length: 6.18681318681",
          "AL<br>Avg Loan Amount ($ USD): 15967.4369748<br>Number of loans: 476<br>Most Likely Term: 36<br>Most Likely Grade: C<br>Avg EMP Length: 5.9768907563",
          "AR<br>Avg Loan Amount ($ USD): 14592.0<br>Number of loans: 300<br>Most Likely Term: 36<br>Most Likely Grade: C<br>Avg EMP Length: 5.26333333333",
          "AZ<br>Avg Loan Amount ($ USD): 16068.6015831<br>Number of loans: 758<br>Most Likely Term: 36<br>Most Likely Grade: C<br>Avg EMP Length: 5.33377308707",
          "CA<br>Avg Loan Amount ($ USD): 16326.3385239<br>Number of loans: 4688<br>Most Likely Term: 36<br>Most Likely Grade: C<br>Avg EMP Length: 5.75362627986",
          "CO<br>Avg Loan Amount ($ USD): 15690.3305785<br>Number of loans: 605<br>Most Likely Term: 36<br>Most Likely Grade: C<br>Avg EMP Length: 4.6347107438",
          "CT<br>Avg Loan Amount ($ USD): 16479.1304348<br>Number of loans: 460<br>Most Likely Term: 36<br>Most Likely Grade: C<br>Avg EMP Length: 5.93043478261",
          "DC<br>Avg Loan Amount ($ USD): 18035.3846154<br>Number of loans: 65<br>Most Likely Term: 36<br>Most Likely Grade: B<br>Avg EMP Length: 5.2",
          "DE<br>Avg Loan Amount ($ USD): 16159.1981132<br>Number of loans: 106<br>Most Likely Term: 36<br>Most Likely Grade: B<br>Avg EMP Length: 5.57547169811",
          "FL<br>Avg Loan Amount ($ USD): 15031.0770541<br>Number of loans: 2349<br>Most Likely Term: 36<br>Most Likely Grade: C<br>Avg EMP Length: 5.09706257982",
          "GA<br>Avg Loan Amount ($ USD): 16702.5681818<br>Number of loans: 1100<br>Most Likely Term: 36<br>Most Likely Grade: C<br>Avg EMP Length: 5.67909090909",
          "HI<br>Avg Loan Amount ($ USD): 17184.4311377<br>Number of loans: 167<br>Most Likely Term: 36<br>Most Likely Grade: C<br>Avg EMP Length: 6.7245508982",
          "IA<br>Avg Loan Amount ($ USD): 11100.0<br>Number of loans: 2<br>Most Likely Term: 36<br>Most Likely Grade: D<br>Avg EMP Length: 2.0",
          "ID<br>Avg Loan Amount ($ USD): 12403.3333333<br>Number of loans: 30<br>Most Likely Term: 36<br>Most Likely Grade: B<br>Avg EMP Length: 3.9",
          "IL<br>Avg Loan Amount ($ USD): 16330.1737757<br>Number of loans: 1266<br>Most Likely Term: 36<br>Most Likely Grade: C<br>Avg EMP Length: 5.71642969984",
          "IN<br>Avg Loan Amount ($ USD): 15483.5763293<br>Number of loans: 583<br>Most Likely Term: 36<br>Most Likely Grade: C<br>Avg EMP Length: 5.6295025729",
          "KS<br>Avg Loan Amount ($ USD): 15025.9920635<br>Number of loans: 252<br>Most Likely Term: 36<br>Most Likely Grade: C<br>Avg EMP Length: 5.62301587302",
          "KY<br>Avg Loan Amount ($ USD): 14787.0262391<br>Number of loans: 343<br>Most Likely Term: 36<br>Most Likely Grade: C<br>Avg EMP Length: 5.90962099125",
          "LA<br>Avg Loan Amount ($ USD): 15662.6712329<br>Number of loans: 438<br>Most Likely Term: 36<br>Most Likely Grade: C<br>Avg EMP Length: 5.68264840183",
          "MA<br>Avg Loan Amount ($ USD): 16469.8119326<br>Number of loans: 771<br>Most Likely Term: 36<br>Most Likely Grade: C<br>Avg EMP Length: 5.52269779507",
          "MD<br>Avg Loan Amount ($ USD): 17108.3706607<br>Number of loans: 893<br>Most Likely Term: 36<br>Most Likely Grade: C<br>Avg EMP Length: 5.7928331467",
          "ME<br>Avg Loan Amount ($ USD): 15200.0<br>Number of loans: 42<br>Most Likely Term: 36<br>Most Likely Grade: C<br>Avg EMP Length: 4.19047619048",
          "MI<br>Avg Loan Amount ($ USD): 16006.1565017<br>Number of loans: 869<br>Most Likely Term: 36<br>Most Likely Grade: C<br>Avg EMP Length: 5.59953970081",
          "MN<br>Avg Loan Amount ($ USD): 15773.9057239<br>Number of loans: 594<br>Most Likely Term: 36<br>Most Likely Grade: C<br>Avg EMP Length: 5.42929292929",
          "MO<br>Avg Loan Amount ($ USD): 15902.6293103<br>Number of loans: 580<br>Most Likely Term: 36<br>Most Likely Grade: C<br>Avg EMP Length: 5.52413793103",
          "MS<br>Avg Loan Amount ($ USD): 16086.4224138<br>Number of loans: 232<br>Most Likely Term: 36<br>Most Likely Grade: C<br>Avg EMP Length: 5.76293103448",
          "MT<br>Avg Loan Amount ($ USD): 15692.8977273<br>Number of loans: 88<br>Most Likely Term: 36<br>Most Likely Grade: C<br>Avg EMP Length: 4.79545454545",
          "NC<br>Avg Loan Amount ($ USD): 15946.9079578<br>Number of loans: 1043<br>Most Likely Term: 36<br>Most Likely Grade: C<br>Avg EMP Length: 5.7861936721",
          "ND<br>Avg Loan Amount ($ USD): 17313.0208333<br>Number of loans: 48<br>Most Likely Term: 36<br>Most Likely Grade: C<br>Avg EMP Length: 3.95833333333",
          "NE<br>Avg Loan Amount ($ USD): 15354.6728972<br>Number of loans: 107<br>Most Likely Term: 36<br>Most Likely Grade: C<br>Avg EMP Length: 4.98130841121",
          "NH<br>Avg Loan Amount ($ USD): 16944.6280992<br>Number of loans: 121<br>Most Likely Term: 36<br>Most Likely Grade: C<br>Avg EMP Length: 5.95867768595",
          "NJ<br>Avg Loan Amount ($ USD): 16807.6313756<br>Number of loans: 1294<br>Most Likely Term: 36<br>Most Likely Grade: C<br>Avg EMP Length: 5.91112828439",
          "NM<br>Avg Loan Amount ($ USD): 17591.7067308<br>Number of loans: 208<br>Most Likely Term: 36<br>Most Likely Grade: C<br>Avg EMP Length: 5.66346153846",
          "NV<br>Avg Loan Amount ($ USD): 14757.9979879<br>Number of loans: 497<br>Most Likely Term: 36<br>Most Likely Grade: C<br>Avg EMP Length: 5.03219315895",
          "NY<br>Avg Loan Amount ($ USD): 15810.4485609<br>Number of loans: 3266<br>Most Likely Term: 36<br>Most Likely Grade: C<br>Avg EMP Length: 5.7538273117",
          "OH<br>Avg Loan Amount ($ USD): 15377.4171889<br>Number of loans: 1117<br>Most Likely Term: 36<br>Most Likely Grade: C<br>Avg EMP Length: 5.82721575649",
          "OK<br>Avg Loan Amount ($ USD): 15324.1477273<br>Number of loans: 352<br>Most Likely Term: 36<br>Most Likely Grade: C<br>Avg EMP Length: 5.80681818182",
          "OR<br>Avg Loan Amount ($ USD): 15218.0357143<br>Number of loans: 280<br>Most Likely Term: 36<br>Most Likely Grade: C<br>Avg EMP Length: 5.33571428571",
          "PA<br>Avg Loan Amount ($ USD): 15837.2033228<br>Number of loans: 1264<br>Most Likely Term: 36<br>Most Likely Grade: C<br>Avg EMP Length: 5.66930379747",
          "RI<br>Avg Loan Amount ($ USD): 15305.4104478<br>Number of loans: 134<br>Most Likely Term: 36<br>Most Likely Grade: C<br>Avg EMP Length: 5.94029850746",
          "SC<br>Avg Loan Amount ($ USD): 16691.2568306<br>Number of loans: 366<br>Most Likely Term: 36<br>Most Likely Grade: C<br>Avg EMP Length: 5.62021857923",
          "SD<br>Avg Loan Amount ($ USD): 15706.5625<br>Number of loans: 80<br>Most Likely Term: 36<br>Most Likely Grade: C<br>Avg EMP Length: 5.2",
          "TN<br>Avg Loan Amount ($ USD): 15115.6303237<br>Number of loans: 587<br>Most Likely Term: 36<br>Most Likely Grade: C<br>Avg EMP Length: 5.867120954",
          "TX<br>Avg Loan Amount ($ USD): 16777.4251191<br>Number of loans: 2938<br>Most Likely Term: 36<br>Most Likely Grade: C<br>Avg EMP Length: 5.44962559564",
          "UT<br>Avg Loan Amount ($ USD): 15691.9318182<br>Number of loans: 220<br>Most Likely Term: 36<br>Most Likely Grade: C<br>Avg EMP Length: 5.25909090909",
          "VA<br>Avg Loan Amount ($ USD): 17344.3336831<br>Number of loans: 953<br>Most Likely Term: 36<br>Most Likely Grade: C<br>Avg EMP Length: 5.65582371459",
          "VT<br>Avg Loan Amount ($ USD): 16184.469697<br>Number of loans: 66<br>Most Likely Term: 36<br>Most Likely Grade: C<br>Avg EMP Length: 6.34848484848",
          "WA<br>Avg Loan Amount ($ USD): 15981.8760611<br>Number of loans: 589<br>Most Likely Term: 36<br>Most Likely Grade: C<br>Avg EMP Length: 5.5415959253",
          "WI<br>Avg Loan Amount ($ USD): 15239.5299145<br>Number of loans: 351<br>Most Likely Term: 36<br>Most Likely Grade: C<br>Avg EMP Length: 5.47578347578",
          "WV<br>Avg Loan Amount ($ USD): 16778.9823009<br>Number of loans: 113<br>Most Likely Term: 36<br>Most Likely Grade: C<br>Avg EMP Length: 6.05309734513",
          "WY<br>Avg Loan Amount ($ USD): 16725.78125<br>Number of loans: 64<br>Most Likely Term: 36<br>Most Likely Grade: C<br>Avg EMP Length: 5.859375"
         ],
         "type": "choropleth",
         "z": [
          "91",
          "476",
          "300",
          "758",
          "4688",
          "605",
          "460",
          "65",
          "106",
          "2349",
          "1100",
          "167",
          "2",
          "30",
          "1266",
          "583",
          "252",
          "343",
          "438",
          "771",
          "893",
          "42",
          "869",
          "594",
          "580",
          "232",
          "88",
          "1043",
          "48",
          "107",
          "121",
          "1294",
          "208",
          "497",
          "3266",
          "1117",
          "352",
          "280",
          "1264",
          "134",
          "366",
          "80",
          "587",
          "2938",
          "220",
          "953",
          "66",
          "589",
          "351",
          "113",
          "64"
         ]
        }
       ],
       "layout": {
        "geo": {
         "lakecolor": "rgb(255, 255, 255)",
         "projection": {
          "type": "albers usa"
         },
         "scope": "usa",
         "showlakes": true
        },
        "title": "Total number of defaulted-loans by state <br> (Hover over state for other metrics)"
       }
      },
      "text/html": [
       "<div id=\"9aed75b3-1a88-4903-ac04-dfacfb7f3aa8\" style=\"height: 525px; width: 100%;\" class=\"plotly-graph-div\"></div><script type=\"text/javascript\">require([\"plotly\"], function(Plotly) { window.PLOTLYENV=window.PLOTLYENV || {};window.PLOTLYENV.BASE_URL=\"https://plot.ly\";Plotly.newPlot(\"9aed75b3-1a88-4903-ac04-dfacfb7f3aa8\", [{\"type\": \"choropleth\", \"colorscale\": [[0.0, \"rgb(242,240,247)\"], [0.2, \"rgb(218,218,235)\"], [0.4, \"rgb(188,189,220)\"], [0.6, \"rgb(158,154,200)\"], [0.8, \"rgb(117,107,177)\"], [1.0, \"rgb(84,39,143)\"]], \"autocolorscale\": false, \"locations\": [\"AK\", \"AL\", \"AR\", \"AZ\", \"CA\", \"CO\", \"CT\", \"DC\", \"DE\", \"FL\", \"GA\", \"HI\", \"IA\", \"ID\", \"IL\", \"IN\", \"KS\", \"KY\", \"LA\", \"MA\", \"MD\", \"ME\", \"MI\", \"MN\", \"MO\", \"MS\", \"MT\", \"NC\", \"ND\", \"NE\", \"NH\", \"NJ\", \"NM\", \"NV\", \"NY\", \"OH\", \"OK\", \"OR\", \"PA\", \"RI\", \"SC\", \"SD\", \"TN\", \"TX\", \"UT\", \"VA\", \"VT\", \"WA\", \"WI\", \"WV\", \"WY\"], \"z\": [\"91\", \"476\", \"300\", \"758\", \"4688\", \"605\", \"460\", \"65\", \"106\", \"2349\", \"1100\", \"167\", \"2\", \"30\", \"1266\", \"583\", \"252\", \"343\", \"438\", \"771\", \"893\", \"42\", \"869\", \"594\", \"580\", \"232\", \"88\", \"1043\", \"48\", \"107\", \"121\", \"1294\", \"208\", \"497\", \"3266\", \"1117\", \"352\", \"280\", \"1264\", \"134\", \"366\", \"80\", \"587\", \"2938\", \"220\", \"953\", \"66\", \"589\", \"351\", \"113\", \"64\"], \"locationmode\": \"USA-states\", \"text\": [\"AK<br>Avg Loan Amount ($ USD): 17190.1098901<br>Number of loans: 91<br>Most Likely Term: 36<br>Most Likely Grade: C<br>Avg EMP Length: 6.18681318681\", \"AL<br>Avg Loan Amount ($ USD): 15967.4369748<br>Number of loans: 476<br>Most Likely Term: 36<br>Most Likely Grade: C<br>Avg EMP Length: 5.9768907563\", \"AR<br>Avg Loan Amount ($ USD): 14592.0<br>Number of loans: 300<br>Most Likely Term: 36<br>Most Likely Grade: C<br>Avg EMP Length: 5.26333333333\", \"AZ<br>Avg Loan Amount ($ USD): 16068.6015831<br>Number of loans: 758<br>Most Likely Term: 36<br>Most Likely Grade: C<br>Avg EMP Length: 5.33377308707\", \"CA<br>Avg Loan Amount ($ USD): 16326.3385239<br>Number of loans: 4688<br>Most Likely Term: 36<br>Most Likely Grade: C<br>Avg EMP Length: 5.75362627986\", \"CO<br>Avg Loan Amount ($ USD): 15690.3305785<br>Number of loans: 605<br>Most Likely Term: 36<br>Most Likely Grade: C<br>Avg EMP Length: 4.6347107438\", \"CT<br>Avg Loan Amount ($ USD): 16479.1304348<br>Number of loans: 460<br>Most Likely Term: 36<br>Most Likely Grade: C<br>Avg EMP Length: 5.93043478261\", \"DC<br>Avg Loan Amount ($ USD): 18035.3846154<br>Number of loans: 65<br>Most Likely Term: 36<br>Most Likely Grade: B<br>Avg EMP Length: 5.2\", \"DE<br>Avg Loan Amount ($ USD): 16159.1981132<br>Number of loans: 106<br>Most Likely Term: 36<br>Most Likely Grade: B<br>Avg EMP Length: 5.57547169811\", \"FL<br>Avg Loan Amount ($ USD): 15031.0770541<br>Number of loans: 2349<br>Most Likely Term: 36<br>Most Likely Grade: C<br>Avg EMP Length: 5.09706257982\", \"GA<br>Avg Loan Amount ($ USD): 16702.5681818<br>Number of loans: 1100<br>Most Likely Term: 36<br>Most Likely Grade: C<br>Avg EMP Length: 5.67909090909\", \"HI<br>Avg Loan Amount ($ USD): 17184.4311377<br>Number of loans: 167<br>Most Likely Term: 36<br>Most Likely Grade: C<br>Avg EMP Length: 6.7245508982\", \"IA<br>Avg Loan Amount ($ USD): 11100.0<br>Number of loans: 2<br>Most Likely Term: 36<br>Most Likely Grade: D<br>Avg EMP Length: 2.0\", \"ID<br>Avg Loan Amount ($ USD): 12403.3333333<br>Number of loans: 30<br>Most Likely Term: 36<br>Most Likely Grade: B<br>Avg EMP Length: 3.9\", \"IL<br>Avg Loan Amount ($ USD): 16330.1737757<br>Number of loans: 1266<br>Most Likely Term: 36<br>Most Likely Grade: C<br>Avg EMP Length: 5.71642969984\", \"IN<br>Avg Loan Amount ($ USD): 15483.5763293<br>Number of loans: 583<br>Most Likely Term: 36<br>Most Likely Grade: C<br>Avg EMP Length: 5.6295025729\", \"KS<br>Avg Loan Amount ($ USD): 15025.9920635<br>Number of loans: 252<br>Most Likely Term: 36<br>Most Likely Grade: C<br>Avg EMP Length: 5.62301587302\", \"KY<br>Avg Loan Amount ($ USD): 14787.0262391<br>Number of loans: 343<br>Most Likely Term: 36<br>Most Likely Grade: C<br>Avg EMP Length: 5.90962099125\", \"LA<br>Avg Loan Amount ($ USD): 15662.6712329<br>Number of loans: 438<br>Most Likely Term: 36<br>Most Likely Grade: C<br>Avg EMP Length: 5.68264840183\", \"MA<br>Avg Loan Amount ($ USD): 16469.8119326<br>Number of loans: 771<br>Most Likely Term: 36<br>Most Likely Grade: C<br>Avg EMP Length: 5.52269779507\", \"MD<br>Avg Loan Amount ($ USD): 17108.3706607<br>Number of loans: 893<br>Most Likely Term: 36<br>Most Likely Grade: C<br>Avg EMP Length: 5.7928331467\", \"ME<br>Avg Loan Amount ($ USD): 15200.0<br>Number of loans: 42<br>Most Likely Term: 36<br>Most Likely Grade: C<br>Avg EMP Length: 4.19047619048\", \"MI<br>Avg Loan Amount ($ USD): 16006.1565017<br>Number of loans: 869<br>Most Likely Term: 36<br>Most Likely Grade: C<br>Avg EMP Length: 5.59953970081\", \"MN<br>Avg Loan Amount ($ USD): 15773.9057239<br>Number of loans: 594<br>Most Likely Term: 36<br>Most Likely Grade: C<br>Avg EMP Length: 5.42929292929\", \"MO<br>Avg Loan Amount ($ USD): 15902.6293103<br>Number of loans: 580<br>Most Likely Term: 36<br>Most Likely Grade: C<br>Avg EMP Length: 5.52413793103\", \"MS<br>Avg Loan Amount ($ USD): 16086.4224138<br>Number of loans: 232<br>Most Likely Term: 36<br>Most Likely Grade: C<br>Avg EMP Length: 5.76293103448\", \"MT<br>Avg Loan Amount ($ USD): 15692.8977273<br>Number of loans: 88<br>Most Likely Term: 36<br>Most Likely Grade: C<br>Avg EMP Length: 4.79545454545\", \"NC<br>Avg Loan Amount ($ USD): 15946.9079578<br>Number of loans: 1043<br>Most Likely Term: 36<br>Most Likely Grade: C<br>Avg EMP Length: 5.7861936721\", \"ND<br>Avg Loan Amount ($ USD): 17313.0208333<br>Number of loans: 48<br>Most Likely Term: 36<br>Most Likely Grade: C<br>Avg EMP Length: 3.95833333333\", \"NE<br>Avg Loan Amount ($ USD): 15354.6728972<br>Number of loans: 107<br>Most Likely Term: 36<br>Most Likely Grade: C<br>Avg EMP Length: 4.98130841121\", \"NH<br>Avg Loan Amount ($ USD): 16944.6280992<br>Number of loans: 121<br>Most Likely Term: 36<br>Most Likely Grade: C<br>Avg EMP Length: 5.95867768595\", \"NJ<br>Avg Loan Amount ($ USD): 16807.6313756<br>Number of loans: 1294<br>Most Likely Term: 36<br>Most Likely Grade: C<br>Avg EMP Length: 5.91112828439\", \"NM<br>Avg Loan Amount ($ USD): 17591.7067308<br>Number of loans: 208<br>Most Likely Term: 36<br>Most Likely Grade: C<br>Avg EMP Length: 5.66346153846\", \"NV<br>Avg Loan Amount ($ USD): 14757.9979879<br>Number of loans: 497<br>Most Likely Term: 36<br>Most Likely Grade: C<br>Avg EMP Length: 5.03219315895\", \"NY<br>Avg Loan Amount ($ USD): 15810.4485609<br>Number of loans: 3266<br>Most Likely Term: 36<br>Most Likely Grade: C<br>Avg EMP Length: 5.7538273117\", \"OH<br>Avg Loan Amount ($ USD): 15377.4171889<br>Number of loans: 1117<br>Most Likely Term: 36<br>Most Likely Grade: C<br>Avg EMP Length: 5.82721575649\", \"OK<br>Avg Loan Amount ($ USD): 15324.1477273<br>Number of loans: 352<br>Most Likely Term: 36<br>Most Likely Grade: C<br>Avg EMP Length: 5.80681818182\", \"OR<br>Avg Loan Amount ($ USD): 15218.0357143<br>Number of loans: 280<br>Most Likely Term: 36<br>Most Likely Grade: C<br>Avg EMP Length: 5.33571428571\", \"PA<br>Avg Loan Amount ($ USD): 15837.2033228<br>Number of loans: 1264<br>Most Likely Term: 36<br>Most Likely Grade: C<br>Avg EMP Length: 5.66930379747\", \"RI<br>Avg Loan Amount ($ USD): 15305.4104478<br>Number of loans: 134<br>Most Likely Term: 36<br>Most Likely Grade: C<br>Avg EMP Length: 5.94029850746\", \"SC<br>Avg Loan Amount ($ USD): 16691.2568306<br>Number of loans: 366<br>Most Likely Term: 36<br>Most Likely Grade: C<br>Avg EMP Length: 5.62021857923\", \"SD<br>Avg Loan Amount ($ USD): 15706.5625<br>Number of loans: 80<br>Most Likely Term: 36<br>Most Likely Grade: C<br>Avg EMP Length: 5.2\", \"TN<br>Avg Loan Amount ($ USD): 15115.6303237<br>Number of loans: 587<br>Most Likely Term: 36<br>Most Likely Grade: C<br>Avg EMP Length: 5.867120954\", \"TX<br>Avg Loan Amount ($ USD): 16777.4251191<br>Number of loans: 2938<br>Most Likely Term: 36<br>Most Likely Grade: C<br>Avg EMP Length: 5.44962559564\", \"UT<br>Avg Loan Amount ($ USD): 15691.9318182<br>Number of loans: 220<br>Most Likely Term: 36<br>Most Likely Grade: C<br>Avg EMP Length: 5.25909090909\", \"VA<br>Avg Loan Amount ($ USD): 17344.3336831<br>Number of loans: 953<br>Most Likely Term: 36<br>Most Likely Grade: C<br>Avg EMP Length: 5.65582371459\", \"VT<br>Avg Loan Amount ($ USD): 16184.469697<br>Number of loans: 66<br>Most Likely Term: 36<br>Most Likely Grade: C<br>Avg EMP Length: 6.34848484848\", \"WA<br>Avg Loan Amount ($ USD): 15981.8760611<br>Number of loans: 589<br>Most Likely Term: 36<br>Most Likely Grade: C<br>Avg EMP Length: 5.5415959253\", \"WI<br>Avg Loan Amount ($ USD): 15239.5299145<br>Number of loans: 351<br>Most Likely Term: 36<br>Most Likely Grade: C<br>Avg EMP Length: 5.47578347578\", \"WV<br>Avg Loan Amount ($ USD): 16778.9823009<br>Number of loans: 113<br>Most Likely Term: 36<br>Most Likely Grade: C<br>Avg EMP Length: 6.05309734513\", \"WY<br>Avg Loan Amount ($ USD): 16725.78125<br>Number of loans: 64<br>Most Likely Term: 36<br>Most Likely Grade: C<br>Avg EMP Length: 5.859375\"], \"marker\": {\"line\": {\"color\": \"rgb(255,255,255)\", \"width\": 2}}, \"colorbar\": {\"title\": \"Number of loans\"}}], {\"title\": \"Total number of defaulted-loans by state <br> (Hover over state for other metrics)\", \"geo\": {\"scope\": \"usa\", \"projection\": {\"type\": \"albers usa\"}, \"showlakes\": true, \"lakecolor\": \"rgb(255, 255, 255)\"}}, {\"showLink\": true, \"linkText\": \"Export to plot.ly\"})});</script>"
      ],
      "text/vnd.plotly.v1+html": [
       "<div id=\"9aed75b3-1a88-4903-ac04-dfacfb7f3aa8\" style=\"height: 525px; width: 100%;\" class=\"plotly-graph-div\"></div><script type=\"text/javascript\">require([\"plotly\"], function(Plotly) { window.PLOTLYENV=window.PLOTLYENV || {};window.PLOTLYENV.BASE_URL=\"https://plot.ly\";Plotly.newPlot(\"9aed75b3-1a88-4903-ac04-dfacfb7f3aa8\", [{\"type\": \"choropleth\", \"colorscale\": [[0.0, \"rgb(242,240,247)\"], [0.2, \"rgb(218,218,235)\"], [0.4, \"rgb(188,189,220)\"], [0.6, \"rgb(158,154,200)\"], [0.8, \"rgb(117,107,177)\"], [1.0, \"rgb(84,39,143)\"]], \"autocolorscale\": false, \"locations\": [\"AK\", \"AL\", \"AR\", \"AZ\", \"CA\", \"CO\", \"CT\", \"DC\", \"DE\", \"FL\", \"GA\", \"HI\", \"IA\", \"ID\", \"IL\", \"IN\", \"KS\", \"KY\", \"LA\", \"MA\", \"MD\", \"ME\", \"MI\", \"MN\", \"MO\", \"MS\", \"MT\", \"NC\", \"ND\", \"NE\", \"NH\", \"NJ\", \"NM\", \"NV\", \"NY\", \"OH\", \"OK\", \"OR\", \"PA\", \"RI\", \"SC\", \"SD\", \"TN\", \"TX\", \"UT\", \"VA\", \"VT\", \"WA\", \"WI\", \"WV\", \"WY\"], \"z\": [\"91\", \"476\", \"300\", \"758\", \"4688\", \"605\", \"460\", \"65\", \"106\", \"2349\", \"1100\", \"167\", \"2\", \"30\", \"1266\", \"583\", \"252\", \"343\", \"438\", \"771\", \"893\", \"42\", \"869\", \"594\", \"580\", \"232\", \"88\", \"1043\", \"48\", \"107\", \"121\", \"1294\", \"208\", \"497\", \"3266\", \"1117\", \"352\", \"280\", \"1264\", \"134\", \"366\", \"80\", \"587\", \"2938\", \"220\", \"953\", \"66\", \"589\", \"351\", \"113\", \"64\"], \"locationmode\": \"USA-states\", \"text\": [\"AK<br>Avg Loan Amount ($ USD): 17190.1098901<br>Number of loans: 91<br>Most Likely Term: 36<br>Most Likely Grade: C<br>Avg EMP Length: 6.18681318681\", \"AL<br>Avg Loan Amount ($ USD): 15967.4369748<br>Number of loans: 476<br>Most Likely Term: 36<br>Most Likely Grade: C<br>Avg EMP Length: 5.9768907563\", \"AR<br>Avg Loan Amount ($ USD): 14592.0<br>Number of loans: 300<br>Most Likely Term: 36<br>Most Likely Grade: C<br>Avg EMP Length: 5.26333333333\", \"AZ<br>Avg Loan Amount ($ USD): 16068.6015831<br>Number of loans: 758<br>Most Likely Term: 36<br>Most Likely Grade: C<br>Avg EMP Length: 5.33377308707\", \"CA<br>Avg Loan Amount ($ USD): 16326.3385239<br>Number of loans: 4688<br>Most Likely Term: 36<br>Most Likely Grade: C<br>Avg EMP Length: 5.75362627986\", \"CO<br>Avg Loan Amount ($ USD): 15690.3305785<br>Number of loans: 605<br>Most Likely Term: 36<br>Most Likely Grade: C<br>Avg EMP Length: 4.6347107438\", \"CT<br>Avg Loan Amount ($ USD): 16479.1304348<br>Number of loans: 460<br>Most Likely Term: 36<br>Most Likely Grade: C<br>Avg EMP Length: 5.93043478261\", \"DC<br>Avg Loan Amount ($ USD): 18035.3846154<br>Number of loans: 65<br>Most Likely Term: 36<br>Most Likely Grade: B<br>Avg EMP Length: 5.2\", \"DE<br>Avg Loan Amount ($ USD): 16159.1981132<br>Number of loans: 106<br>Most Likely Term: 36<br>Most Likely Grade: B<br>Avg EMP Length: 5.57547169811\", \"FL<br>Avg Loan Amount ($ USD): 15031.0770541<br>Number of loans: 2349<br>Most Likely Term: 36<br>Most Likely Grade: C<br>Avg EMP Length: 5.09706257982\", \"GA<br>Avg Loan Amount ($ USD): 16702.5681818<br>Number of loans: 1100<br>Most Likely Term: 36<br>Most Likely Grade: C<br>Avg EMP Length: 5.67909090909\", \"HI<br>Avg Loan Amount ($ USD): 17184.4311377<br>Number of loans: 167<br>Most Likely Term: 36<br>Most Likely Grade: C<br>Avg EMP Length: 6.7245508982\", \"IA<br>Avg Loan Amount ($ USD): 11100.0<br>Number of loans: 2<br>Most Likely Term: 36<br>Most Likely Grade: D<br>Avg EMP Length: 2.0\", \"ID<br>Avg Loan Amount ($ USD): 12403.3333333<br>Number of loans: 30<br>Most Likely Term: 36<br>Most Likely Grade: B<br>Avg EMP Length: 3.9\", \"IL<br>Avg Loan Amount ($ USD): 16330.1737757<br>Number of loans: 1266<br>Most Likely Term: 36<br>Most Likely Grade: C<br>Avg EMP Length: 5.71642969984\", \"IN<br>Avg Loan Amount ($ USD): 15483.5763293<br>Number of loans: 583<br>Most Likely Term: 36<br>Most Likely Grade: C<br>Avg EMP Length: 5.6295025729\", \"KS<br>Avg Loan Amount ($ USD): 15025.9920635<br>Number of loans: 252<br>Most Likely Term: 36<br>Most Likely Grade: C<br>Avg EMP Length: 5.62301587302\", \"KY<br>Avg Loan Amount ($ USD): 14787.0262391<br>Number of loans: 343<br>Most Likely Term: 36<br>Most Likely Grade: C<br>Avg EMP Length: 5.90962099125\", \"LA<br>Avg Loan Amount ($ USD): 15662.6712329<br>Number of loans: 438<br>Most Likely Term: 36<br>Most Likely Grade: C<br>Avg EMP Length: 5.68264840183\", \"MA<br>Avg Loan Amount ($ USD): 16469.8119326<br>Number of loans: 771<br>Most Likely Term: 36<br>Most Likely Grade: C<br>Avg EMP Length: 5.52269779507\", \"MD<br>Avg Loan Amount ($ USD): 17108.3706607<br>Number of loans: 893<br>Most Likely Term: 36<br>Most Likely Grade: C<br>Avg EMP Length: 5.7928331467\", \"ME<br>Avg Loan Amount ($ USD): 15200.0<br>Number of loans: 42<br>Most Likely Term: 36<br>Most Likely Grade: C<br>Avg EMP Length: 4.19047619048\", \"MI<br>Avg Loan Amount ($ USD): 16006.1565017<br>Number of loans: 869<br>Most Likely Term: 36<br>Most Likely Grade: C<br>Avg EMP Length: 5.59953970081\", \"MN<br>Avg Loan Amount ($ USD): 15773.9057239<br>Number of loans: 594<br>Most Likely Term: 36<br>Most Likely Grade: C<br>Avg EMP Length: 5.42929292929\", \"MO<br>Avg Loan Amount ($ USD): 15902.6293103<br>Number of loans: 580<br>Most Likely Term: 36<br>Most Likely Grade: C<br>Avg EMP Length: 5.52413793103\", \"MS<br>Avg Loan Amount ($ USD): 16086.4224138<br>Number of loans: 232<br>Most Likely Term: 36<br>Most Likely Grade: C<br>Avg EMP Length: 5.76293103448\", \"MT<br>Avg Loan Amount ($ USD): 15692.8977273<br>Number of loans: 88<br>Most Likely Term: 36<br>Most Likely Grade: C<br>Avg EMP Length: 4.79545454545\", \"NC<br>Avg Loan Amount ($ USD): 15946.9079578<br>Number of loans: 1043<br>Most Likely Term: 36<br>Most Likely Grade: C<br>Avg EMP Length: 5.7861936721\", \"ND<br>Avg Loan Amount ($ USD): 17313.0208333<br>Number of loans: 48<br>Most Likely Term: 36<br>Most Likely Grade: C<br>Avg EMP Length: 3.95833333333\", \"NE<br>Avg Loan Amount ($ USD): 15354.6728972<br>Number of loans: 107<br>Most Likely Term: 36<br>Most Likely Grade: C<br>Avg EMP Length: 4.98130841121\", \"NH<br>Avg Loan Amount ($ USD): 16944.6280992<br>Number of loans: 121<br>Most Likely Term: 36<br>Most Likely Grade: C<br>Avg EMP Length: 5.95867768595\", \"NJ<br>Avg Loan Amount ($ USD): 16807.6313756<br>Number of loans: 1294<br>Most Likely Term: 36<br>Most Likely Grade: C<br>Avg EMP Length: 5.91112828439\", \"NM<br>Avg Loan Amount ($ USD): 17591.7067308<br>Number of loans: 208<br>Most Likely Term: 36<br>Most Likely Grade: C<br>Avg EMP Length: 5.66346153846\", \"NV<br>Avg Loan Amount ($ USD): 14757.9979879<br>Number of loans: 497<br>Most Likely Term: 36<br>Most Likely Grade: C<br>Avg EMP Length: 5.03219315895\", \"NY<br>Avg Loan Amount ($ USD): 15810.4485609<br>Number of loans: 3266<br>Most Likely Term: 36<br>Most Likely Grade: C<br>Avg EMP Length: 5.7538273117\", \"OH<br>Avg Loan Amount ($ USD): 15377.4171889<br>Number of loans: 1117<br>Most Likely Term: 36<br>Most Likely Grade: C<br>Avg EMP Length: 5.82721575649\", \"OK<br>Avg Loan Amount ($ USD): 15324.1477273<br>Number of loans: 352<br>Most Likely Term: 36<br>Most Likely Grade: C<br>Avg EMP Length: 5.80681818182\", \"OR<br>Avg Loan Amount ($ USD): 15218.0357143<br>Number of loans: 280<br>Most Likely Term: 36<br>Most Likely Grade: C<br>Avg EMP Length: 5.33571428571\", \"PA<br>Avg Loan Amount ($ USD): 15837.2033228<br>Number of loans: 1264<br>Most Likely Term: 36<br>Most Likely Grade: C<br>Avg EMP Length: 5.66930379747\", \"RI<br>Avg Loan Amount ($ USD): 15305.4104478<br>Number of loans: 134<br>Most Likely Term: 36<br>Most Likely Grade: C<br>Avg EMP Length: 5.94029850746\", \"SC<br>Avg Loan Amount ($ USD): 16691.2568306<br>Number of loans: 366<br>Most Likely Term: 36<br>Most Likely Grade: C<br>Avg EMP Length: 5.62021857923\", \"SD<br>Avg Loan Amount ($ USD): 15706.5625<br>Number of loans: 80<br>Most Likely Term: 36<br>Most Likely Grade: C<br>Avg EMP Length: 5.2\", \"TN<br>Avg Loan Amount ($ USD): 15115.6303237<br>Number of loans: 587<br>Most Likely Term: 36<br>Most Likely Grade: C<br>Avg EMP Length: 5.867120954\", \"TX<br>Avg Loan Amount ($ USD): 16777.4251191<br>Number of loans: 2938<br>Most Likely Term: 36<br>Most Likely Grade: C<br>Avg EMP Length: 5.44962559564\", \"UT<br>Avg Loan Amount ($ USD): 15691.9318182<br>Number of loans: 220<br>Most Likely Term: 36<br>Most Likely Grade: C<br>Avg EMP Length: 5.25909090909\", \"VA<br>Avg Loan Amount ($ USD): 17344.3336831<br>Number of loans: 953<br>Most Likely Term: 36<br>Most Likely Grade: C<br>Avg EMP Length: 5.65582371459\", \"VT<br>Avg Loan Amount ($ USD): 16184.469697<br>Number of loans: 66<br>Most Likely Term: 36<br>Most Likely Grade: C<br>Avg EMP Length: 6.34848484848\", \"WA<br>Avg Loan Amount ($ USD): 15981.8760611<br>Number of loans: 589<br>Most Likely Term: 36<br>Most Likely Grade: C<br>Avg EMP Length: 5.5415959253\", \"WI<br>Avg Loan Amount ($ USD): 15239.5299145<br>Number of loans: 351<br>Most Likely Term: 36<br>Most Likely Grade: C<br>Avg EMP Length: 5.47578347578\", \"WV<br>Avg Loan Amount ($ USD): 16778.9823009<br>Number of loans: 113<br>Most Likely Term: 36<br>Most Likely Grade: C<br>Avg EMP Length: 6.05309734513\", \"WY<br>Avg Loan Amount ($ USD): 16725.78125<br>Number of loans: 64<br>Most Likely Term: 36<br>Most Likely Grade: C<br>Avg EMP Length: 5.859375\"], \"marker\": {\"line\": {\"color\": \"rgb(255,255,255)\", \"width\": 2}}, \"colorbar\": {\"title\": \"Number of loans\"}}], {\"title\": \"Total number of defaulted-loans by state <br> (Hover over state for other metrics)\", \"geo\": {\"scope\": \"usa\", \"projection\": {\"type\": \"albers usa\"}, \"showlakes\": true, \"lakecolor\": \"rgb(255, 255, 255)\"}}, {\"showLink\": true, \"linkText\": \"Export to plot.ly\"})});</script>"
      ]
     },
     "metadata": {},
     "output_type": "display_data"
    }
   ],
   "source": [
    "for col in dfSummary.columns:\n",
    "    dfSummary[col] = dfSummary[col].astype(str)\n",
    "\n",
    "scl = [[0.0, 'rgb(242,240,247)'],[0.2, 'rgb(218,218,235)'],[0.4, 'rgb(188,189,220)'],\\\n",
    "            [0.6, 'rgb(158,154,200)'],[0.8, 'rgb(117,107,177)'],[1.0, 'rgb(84,39,143)']]    \n",
    "\n",
    "dfSummary['text'] = dfSummary['State'] + '<br>' +\\\n",
    "    'Avg Loan Amount ($ USD): '+dfSummary['Avg Loan Amount']+'<br>'+\\\n",
    "    'Number of loans: '+dfSummary['Accepted Loans']+'<br>'+\\\n",
    "    'Most Likely Term: '+dfSummary['Most Likely Term']+'<br>'+\\\n",
    "    'Most Likely Grade: '+dfSummary['Most Likely Grade']+'<br>'+\\\n",
    "    'Avg EMP Length: '+dfSummary['Avg EMP Length']\n",
    "\n",
    "data = [ dict(\n",
    "    type='choropleth',\n",
    "    colorscale = scl,\n",
    "    autocolorscale = False,\n",
    "    locations = dfSummary['State'],\n",
    "    z = dfSummary['Accepted Loans'], \n",
    "    locationmode = 'USA-states',\n",
    "    text = dfSummary['text'],\n",
    "    marker = dict(\n",
    "        line = dict (\n",
    "            color = 'rgb(255,255,255)',\n",
    "            width = 2\n",
    "        ) ),\n",
    "    colorbar = dict(\n",
    "        title = \"Number of loans\")\n",
    "    ) ]\n",
    "\n",
    "layout = dict(\n",
    "    title = 'Total number of defaulted-loans by state <br> (Hover over state for other metrics)',\n",
    "    geo = dict(\n",
    "        scope='usa',\n",
    "        projection=dict( type='albers usa' ),\n",
    "        showlakes = True,\n",
    "        lakecolor = 'rgb(255, 255, 255)'),\n",
    "         )\n",
    "\n",
    "fig = dict( data=data, layout=layout )\n",
    "iplot( fig, filename='d3-cloropleth-map')"
   ]
  },
  {
   "cell_type": "code",
   "execution_count": 23,
   "metadata": {
    "collapsed": false
   },
   "outputs": [
    {
     "data": {
      "text/plain": [
       "<matplotlib.text.Text at 0x2a60a5249b0>"
      ]
     },
     "execution_count": 23,
     "metadata": {},
     "output_type": "execute_result"
    },
    {
     "data": {
      "image/png": "[encoded data removed]",
      "text/plain": [
       "<matplotlib.figure.Figure at 0x2a61c1bf710>"
      ]
     },
     "metadata": {},
     "output_type": "display_data"
    }
   ],
   "source": [
    "#Grade Wise Analysis of Loan Issued.\n",
    "\n",
    "temp = dfLoans.groupby(['grade','issue_year'],as_index=False)['loan_amnt'].mean()\n",
    "\n",
    "import matplotlib.cm as cm\n",
    "dpoints = np.array(temp)\n",
    "fig = plt.figure(figsize=(15,7))\n",
    "ax = fig.add_subplot(1,1,1)\n",
    "space = 0.3\n",
    "conditions = np.unique(dpoints[:,0])\n",
    "categories = np.unique(dpoints[:,1])\n",
    "n = len(conditions)\n",
    "width = (1-space)/len(conditions)\n",
    "\n",
    "for i,cond in enumerate(conditions):\n",
    "    vals = dpoints[dpoints[:,0] == cond][:,2].astype(np.float)\n",
    "    pos = [j - (1 - space) / 2. + i * width for j in range(1,len(categories)+1)]\n",
    "    ax.bar(pos, vals, width = width,label=cond, \n",
    "       color=cm.Accent(float(i) / n))\n",
    "    ax.set_xticklabels(['','2008','2010','2012','2014',''])\n",
    "    handles, labels = ax.get_legend_handles_labels()\n",
    "    ax.legend(handles[::-1], labels[::-1])\n",
    "    ax.set_ylabel(\"Loan Volume\")\n",
    "    ax.set_xlabel(\"Year\")\n",
    "plt.title('Loan Issued Volume Trends by Grade')"
   ]
  },
  {
   "cell_type": "code",
   "execution_count": 24,
   "metadata": {
    "collapsed": false
   },
   "outputs": [
    {
     "data": {
      "text/plain": [
       "<matplotlib.text.Text at 0x2a635433438>"
      ]
     },
     "execution_count": 24,
     "metadata": {},
     "output_type": "execute_result"
    },
    {
     "data": {
      "image/png": "[encoded data removed]",
      "text/plain": [
       "<matplotlib.figure.Figure at 0x2a608d34a90>"
      ]
     },
     "metadata": {},
     "output_type": "display_data"
    }
   ],
   "source": [
    "#Grade Wise Analysis of Loan Issued.\n",
    "temp = dfLoans.groupby(['loan_status_binary','issue_year'],as_index=False)['int_rate'].mean()\n",
    "\n",
    "import matplotlib.cm as cm\n",
    "dpoints = np.array(temp)\n",
    "fig = plt.figure(figsize=(15,7))\n",
    "ax = fig.add_subplot(1,1,1)\n",
    "space = 0.3\n",
    "conditions = np.unique(dpoints[:,0])\n",
    "categories = np.unique(dpoints[:,1])\n",
    "n = len(conditions)\n",
    "width = (1-space)/len(conditions)\n",
    "\n",
    "for i,cond in enumerate(conditions):\n",
    "    vals = dpoints[dpoints[:,0] == cond][:,2].astype(np.float)\n",
    "    pos = [j - (1 - space) / 2. + i * width for j in range(1,len(categories)+1)]\n",
    "    ax.bar(pos, vals, width = width,label=cond, \n",
    "       color=cm.Accent(float(i) / n))\n",
    "    ax.set_xticklabels(['','2008','2010','2012','2014',''])\n",
    "    handles, labels = ax.get_legend_handles_labels()\n",
    "    ax.legend(handles[::-1], labels[::-1])\n",
    "    ax.set_ylabel(\"Loan Volume\")\n",
    "    ax.set_xlabel(\"Year\")\n",
    "plt.title('Loan Issued Volume Trends by Loan Status ')"
   ]
  }
 ],
 "metadata": {
  "kernelspec": {
   "display_name": "Python 3",
   "language": "python",
   "name": "python3"
  },
  "language_info": {
   "codemirror_mode": {
    "name": "ipython",
    "version": 3
   },
   "file_extension": ".py",
   "mimetype": "text/x-python",
   "name": "python",
   "nbconvert_exporter": "python",
   "pygments_lexer": "ipython3",
   "version": "3.6.0"
  }
 },
 "nbformat": 4,
 "nbformat_minor": 2
}
