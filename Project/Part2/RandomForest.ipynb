{
 "cells": [
  {
   "cell_type": "code",
   "execution_count": 1,
   "metadata": {
    "collapsed": false
   },
   "outputs": [
    {
     "name": "stderr",
     "output_type": "stream",
     "text": [
      "Warning message:\n",
      "\"package 'randomForest' was built under R version 3.3.3\"randomForest 4.6-12\n",
      "Type rfNews() to see new features/changes/bug fixes.\n",
      "Warning message:\n",
      "\"package 'sqldf' was built under R version 3.3.3\"Loading required package: gsubfn\n",
      "Warning message:\n",
      "\"package 'gsubfn' was built under R version 3.3.3\"Loading required package: proto\n",
      "Could not load tcltk.  Will use slower R code instead.\n",
      "Loading required package: RSQLite\n",
      "Warning message:\n",
      "\"package 'RSQLite' was built under R version 3.3.3\"\n",
      "Attaching package: 'ggplot2'\n",
      "\n",
      "The following object is masked from 'package:randomForest':\n",
      "\n",
      "    margin\n",
      "\n",
      "Warning message:\n",
      "\"package 'pROC' was built under R version 3.3.3\"Type 'citation(\"pROC\")' for a citation.\n",
      "\n",
      "Attaching package: 'pROC'\n",
      "\n",
      "The following objects are masked from 'package:stats':\n",
      "\n",
      "    cov, smooth, var\n",
      "\n",
      "Warning message:\n",
      "\"package 'ROCR' was built under R version 3.3.3\"Loading required package: gplots\n",
      "Warning message:\n",
      "\"package 'gplots' was built under R version 3.3.3\"\n",
      "Attaching package: 'gplots'\n",
      "\n",
      "The following object is masked from 'package:stats':\n",
      "\n",
      "    lowess\n",
      "\n"
     ]
    }
   ],
   "source": [
    "library(randomForest)\n",
    "library(sqldf)\n",
    "library(ggplot2)\n",
    "library(MASS)\n",
    "library(pROC)\n",
    "library(ROCR)"
   ]
  },
  {
   "cell_type": "code",
   "execution_count": 8,
   "metadata": {
    "collapsed": false
   },
   "outputs": [],
   "source": [
    "setwd(\"C:/Users/Gautam/Desktop/sumit1/results/historical/Q12005\")   \n",
    "set.seed(123)"
   ]
  },
  {
   "cell_type": "code",
   "execution_count": 9,
   "metadata": {
    "collapsed": true
   },
   "outputs": [],
   "source": [
    "abc=\"historical_data1_timeQ12005.csv\" \n",
    "bcd=\"historical_data1_timeQ22005.csv\""
   ]
  },
  {
   "cell_type": "code",
   "execution_count": 10,
   "metadata": {
    "collapsed": false
   },
   "outputs": [
    {
     "name": "stderr",
     "output_type": "stream",
     "text": [
      "Warning message:\n",
      "\"closing unused connection 4 (historical_data1_timeQ12005.csv)\""
     ]
    }
   ],
   "source": [
    " traindata <- read.csv.sql(file = abc, sql = \"select * from file order by random() limit 500000\")\n",
    "#    testdata <- read.csv.sql(file = bcd, sql = \"select * from file order by random() limit 50000\")"
   ]
  },
  {
   "cell_type": "code",
   "execution_count": null,
   "metadata": {
    "collapsed": true
   },
   "outputs": [],
   "source": [
    "#Converting columns into factors for training data\n",
    "traindata$RepurchaseFlag <- as.factor(traindata$RepurchaseFlag)\n",
    "traindata$ModificationFlag <- as.factor(traindata$ModificationFlag)\n",
    "traindata$ZeroBalanceCode <- as.factor(traindata$ZeroBalanceCode)\n",
    "traindata$CurrentLoadDelinquencyStatus <- as.factor(traindata$CurrentLoadDelinquencyStatus)"
   ]
  },
  {
   "cell_type": "code",
   "execution_count": null,
   "metadata": {
    "collapsed": true
   },
   "outputs": [],
   "source": [
    "#Converting columns into factors for testing data\n",
    "testdata$RepurchaseFlag <- as.factor(testdata$RepurchaseFlag)\n",
    "testdata$ModificationFlag <- as.factor(testdata$ModificationFlag)\n",
    "testdata$ZeroBalanceCode <- as.factor(testdata$ZeroBalanceCode)\n",
    "testdata$CurrentLoadDelinquencyStatus <- as.factor(testdata$CurrentLoadDelinquencyStatus)"
   ]
  },
  {
   "cell_type": "code",
   "execution_count": null,
   "metadata": {
    "collapsed": true
   },
   "outputs": [],
   "source": [
    "#Building modelfor the tree \n",
    "model_random<- randomForest(CurrentLoadDelinquencyStatus ~ CurrentActualUpb + LoanAge + RemainingMonthsToLegalMaturity +\n",
    "                RepurchaseFlag + ModificationFlag + ZeroBalanceCode + CurrentInterestRate,\n",
    "                data = traindata, ntree=70)"
   ]
  },
  {
   "cell_type": "code",
   "execution_count": null,
   "metadata": {
    "collapsed": true
   },
   "outputs": [],
   "source": [
    "importance(model_random)\n",
    "varImpPlot(model_random)"
   ]
  },
  {
   "cell_type": "code",
   "execution_count": null,
   "metadata": {
    "collapsed": true
   },
   "outputs": [],
   "source": [
    "# Predicting the train data for the response.\n",
    "PredictionWithClass<- predict(model_random,traindata,type='class')\n",
    "t<- table(predictions = PredictionWithClass, actual = traindata$CurrentLoadDelinquencyStatus)\n",
    "t"
   ]
  },
  {
   "cell_type": "code",
   "execution_count": null,
   "metadata": {
    "collapsed": true
   },
   "outputs": [],
   "source": [
    "#Calculating Accuracy through classification matrix\n",
    "sum(diag(t))/sum(t)"
   ]
  },
  {
   "cell_type": "code",
   "execution_count": null,
   "metadata": {
    "collapsed": true
   },
   "outputs": [],
   "source": [
    "# Predicting the test data for the response.\n",
    "PredictionWithClass<- predict(model_random,testdata,type='class')\n",
    "t<- table(predictions = PredictionWithClass, actual = testdata$CurrentLoadDelinquencyStatus)\n",
    "t"
   ]
  },
  {
   "cell_type": "code",
   "execution_count": null,
   "metadata": {
    "collapsed": true
   },
   "outputs": [],
   "source": [
    "#Calculating Accuracy through classification matrix\n",
    "sum(diag(t))/sum(t)"
   ]
  },
  {
   "cell_type": "code",
   "execution_count": null,
   "metadata": {
    "collapsed": true
   },
   "outputs": [],
   "source": [
    "# ROC Curve for Train Data \n",
    "predictions=as.vector(model_random$votes[,1])\n",
    "pred=prediction(predictions,traindata$CurrentLoadDelinquencyStatus)\n",
    "perf_AUC=performance(pred,\"auc\") #Calculate the AUC value\n",
    "AUC=perf_AUC@y.values[[1]]\n",
    "perf_ROC=performance(pred,\"tpr\",\"fpr\") #plot the actual ROC curve\n",
    "plot(perf_ROC, main=\"ROC plot\")\n",
    "text(0.5,0.5,paste(\"AUC = \",format(AUC, digits=1, scientific=FALSE)))"
   ]
  },
  {
   "cell_type": "code",
   "execution_count": null,
   "metadata": {
    "collapsed": true
   },
   "outputs": [],
   "source": [
    "# ROC Curve for Train Data \n",
    "predictions=as.vector(model_random$votes[,1])\n",
    "pred=prediction(predictions,testdata$CurrentLoadDelinquencyStatus)\n",
    "perf_AUC=performance(pred,\"auc\") #Calculate the AUC value\n",
    "AUC=perf_AUC@y.values[[1]]\n",
    "perf_ROC=performance(pred,\"tpr\",\"fpr\") #plot the actual ROC curve\n",
    "plot(perf_ROC, main=\"ROC plot\")\n",
    "text(0.5,0.5,paste(\"AUC = \",format(AUC, digits=1, scientific=FALSE)))"
   ]
  }
 ],
 "metadata": {
  "kernelspec": {
   "display_name": "R",
   "language": "R",
   "name": "ir"
  },
  "language_info": {
   "codemirror_mode": "r",
   "file_extension": ".r",
   "mimetype": "text/x-r-source",
   "name": "R",
   "pygments_lexer": "r",
   "version": "3.3.2"
  }
 },
 "nbformat": 4,
 "nbformat_minor": 2
}
